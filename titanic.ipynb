{
 "cells": [
  {
   "cell_type": "code",
   "execution_count": 1,
   "id": "858fef91",
   "metadata": {
    "_cell_guid": "0ddef4e2-75bf-45bf-8008-50ad7d21cfc7",
    "_uuid": "197c5a23-9a98-44f2-a067-c039dbcdbffa",
    "collapsed": false,
    "execution": {
     "iopub.execute_input": "2022-07-30T09:17:55.768884Z",
     "iopub.status.busy": "2022-07-30T09:17:55.768271Z",
     "iopub.status.idle": "2022-07-30T09:17:55.775356Z",
     "shell.execute_reply": "2022-07-30T09:17:55.774143Z"
    },
    "jupyter": {
     "outputs_hidden": false
    },
    "papermill": {
     "duration": 0.025478,
     "end_time": "2022-07-30T09:17:55.778973",
     "exception": false,
     "start_time": "2022-07-30T09:17:55.753495",
     "status": "completed"
    },
    "tags": []
   },
   "outputs": [],
   "source": [
    "#%pip install scikit-learn"
   ]
  },
  {
   "cell_type": "code",
   "execution_count": 2,
   "id": "3ee14904",
   "metadata": {
    "_cell_guid": "f80d2f58-575a-4f3a-8f86-10c2e4b337c9",
    "_uuid": "af377422-f1f9-41ed-836d-01163240bb97",
    "collapsed": false,
    "execution": {
     "iopub.execute_input": "2022-07-30T09:17:55.804029Z",
     "iopub.status.busy": "2022-07-30T09:17:55.803248Z",
     "iopub.status.idle": "2022-07-30T09:17:58.360108Z",
     "shell.execute_reply": "2022-07-30T09:17:58.358874Z"
    },
    "jupyter": {
     "outputs_hidden": false
    },
    "papermill": {
     "duration": 2.572705,
     "end_time": "2022-07-30T09:17:58.363149",
     "exception": false,
     "start_time": "2022-07-30T09:17:55.790444",
     "status": "completed"
    },
    "tags": []
   },
   "outputs": [
    {
     "name": "stdout",
     "output_type": "stream",
     "text": [
      "/kaggle/input/titanic/train.csv\n",
      "/kaggle/input/titanic/test.csv\n",
      "/kaggle/input/titanic/gender_submission.csv\n"
     ]
    }
   ],
   "source": [
    "# This Python 3 environment comes with many helpful analytics libraries installed\n",
    "# It is defined by the kaggle/python Docker image: https://github.com/kaggle/docker-python\n",
    "# For example, here's several helpful packages to load\n",
    "\n",
    "import numpy as np # linear algebra\n",
    "import pandas as pd # data processing, CSV file I/O (e.g. pd.read_csv)\n",
    "import matplotlib.pyplot as plt\n",
    "import seaborn as sns\n",
    "import statsmodels.api as sm\n",
    "# Input data files are available in the read-only \"../input/\" directory\n",
    "# For example, running this (by clicking run or pressing Shift+Enter) will list all files under the input directory\n",
    "\n",
    "import os\n",
    "for dirname, _, filenames in os.walk('/kaggle/input'):\n",
    "    for filename in filenames:\n",
    "        print(os.path.join(dirname, filename))\n",
    "\n",
    "# You can write up to 20GB to the current directory (/kaggle/working/) that gets preserved as output when you create a version using \"Save & Run All\" \n",
    "# You can also write temporary files to /kaggle/temp/, but they won't be saved outside of the current session\n",
    "\n",
    "# Imputing missing values and scaling values\n",
    "from sklearn.preprocessing import MinMaxScaler\n",
    "from sklearn.impute import SimpleImputer\n",
    "\n",
    "# Machine Learning Models\n",
    "from sklearn.linear_model import LinearRegression, LogisticRegression\n",
    "from sklearn.ensemble import RandomForestRegressor, GradientBoostingRegressor, RandomForestClassifier\n",
    "from sklearn.svm import SVR\n",
    "from sklearn.neighbors import KNeighborsRegressor\n",
    "\n",
    "# Hyperparameter tuning\n",
    "from sklearn.model_selection import RandomizedSearchCV, GridSearchCV"
   ]
  },
  {
   "cell_type": "code",
   "execution_count": 3,
   "id": "103424bd",
   "metadata": {
    "_cell_guid": "96214fa8-df61-4c16-b6d0-1210d0cd4a24",
    "_uuid": "ae65a649-4c33-4486-ac91-cce91ba86dd2",
    "collapsed": false,
    "execution": {
     "iopub.execute_input": "2022-07-30T09:17:58.387852Z",
     "iopub.status.busy": "2022-07-30T09:17:58.387140Z",
     "iopub.status.idle": "2022-07-30T09:17:58.450741Z",
     "shell.execute_reply": "2022-07-30T09:17:58.449154Z"
    },
    "jupyter": {
     "outputs_hidden": false
    },
    "papermill": {
     "duration": 0.078855,
     "end_time": "2022-07-30T09:17:58.453351",
     "exception": false,
     "start_time": "2022-07-30T09:17:58.374496",
     "status": "completed"
    },
    "tags": []
   },
   "outputs": [
    {
     "data": {
      "text/html": [
       "<div>\n",
       "<style scoped>\n",
       "    .dataframe tbody tr th:only-of-type {\n",
       "        vertical-align: middle;\n",
       "    }\n",
       "\n",
       "    .dataframe tbody tr th {\n",
       "        vertical-align: top;\n",
       "    }\n",
       "\n",
       "    .dataframe thead th {\n",
       "        text-align: right;\n",
       "    }\n",
       "</style>\n",
       "<table border=\"1\" class=\"dataframe\">\n",
       "  <thead>\n",
       "    <tr style=\"text-align: right;\">\n",
       "      <th></th>\n",
       "      <th>PassengerId</th>\n",
       "      <th>Survived</th>\n",
       "      <th>Pclass</th>\n",
       "      <th>Name</th>\n",
       "      <th>Sex</th>\n",
       "      <th>Age</th>\n",
       "      <th>SibSp</th>\n",
       "      <th>Parch</th>\n",
       "      <th>Ticket</th>\n",
       "      <th>Fare</th>\n",
       "      <th>Cabin</th>\n",
       "      <th>Embarked</th>\n",
       "    </tr>\n",
       "  </thead>\n",
       "  <tbody>\n",
       "    <tr>\n",
       "      <th>0</th>\n",
       "      <td>1</td>\n",
       "      <td>0</td>\n",
       "      <td>3</td>\n",
       "      <td>Braund, Mr. Owen Harris</td>\n",
       "      <td>male</td>\n",
       "      <td>22.0</td>\n",
       "      <td>1</td>\n",
       "      <td>0</td>\n",
       "      <td>A/5 21171</td>\n",
       "      <td>7.2500</td>\n",
       "      <td>NaN</td>\n",
       "      <td>S</td>\n",
       "    </tr>\n",
       "    <tr>\n",
       "      <th>1</th>\n",
       "      <td>2</td>\n",
       "      <td>1</td>\n",
       "      <td>1</td>\n",
       "      <td>Cumings, Mrs. John Bradley (Florence Briggs Th...</td>\n",
       "      <td>female</td>\n",
       "      <td>38.0</td>\n",
       "      <td>1</td>\n",
       "      <td>0</td>\n",
       "      <td>PC 17599</td>\n",
       "      <td>71.2833</td>\n",
       "      <td>C85</td>\n",
       "      <td>C</td>\n",
       "    </tr>\n",
       "    <tr>\n",
       "      <th>2</th>\n",
       "      <td>3</td>\n",
       "      <td>1</td>\n",
       "      <td>3</td>\n",
       "      <td>Heikkinen, Miss. Laina</td>\n",
       "      <td>female</td>\n",
       "      <td>26.0</td>\n",
       "      <td>0</td>\n",
       "      <td>0</td>\n",
       "      <td>STON/O2. 3101282</td>\n",
       "      <td>7.9250</td>\n",
       "      <td>NaN</td>\n",
       "      <td>S</td>\n",
       "    </tr>\n",
       "    <tr>\n",
       "      <th>3</th>\n",
       "      <td>4</td>\n",
       "      <td>1</td>\n",
       "      <td>1</td>\n",
       "      <td>Futrelle, Mrs. Jacques Heath (Lily May Peel)</td>\n",
       "      <td>female</td>\n",
       "      <td>35.0</td>\n",
       "      <td>1</td>\n",
       "      <td>0</td>\n",
       "      <td>113803</td>\n",
       "      <td>53.1000</td>\n",
       "      <td>C123</td>\n",
       "      <td>S</td>\n",
       "    </tr>\n",
       "    <tr>\n",
       "      <th>4</th>\n",
       "      <td>5</td>\n",
       "      <td>0</td>\n",
       "      <td>3</td>\n",
       "      <td>Allen, Mr. William Henry</td>\n",
       "      <td>male</td>\n",
       "      <td>35.0</td>\n",
       "      <td>0</td>\n",
       "      <td>0</td>\n",
       "      <td>373450</td>\n",
       "      <td>8.0500</td>\n",
       "      <td>NaN</td>\n",
       "      <td>S</td>\n",
       "    </tr>\n",
       "    <tr>\n",
       "      <th>...</th>\n",
       "      <td>...</td>\n",
       "      <td>...</td>\n",
       "      <td>...</td>\n",
       "      <td>...</td>\n",
       "      <td>...</td>\n",
       "      <td>...</td>\n",
       "      <td>...</td>\n",
       "      <td>...</td>\n",
       "      <td>...</td>\n",
       "      <td>...</td>\n",
       "      <td>...</td>\n",
       "      <td>...</td>\n",
       "    </tr>\n",
       "    <tr>\n",
       "      <th>886</th>\n",
       "      <td>887</td>\n",
       "      <td>0</td>\n",
       "      <td>2</td>\n",
       "      <td>Montvila, Rev. Juozas</td>\n",
       "      <td>male</td>\n",
       "      <td>27.0</td>\n",
       "      <td>0</td>\n",
       "      <td>0</td>\n",
       "      <td>211536</td>\n",
       "      <td>13.0000</td>\n",
       "      <td>NaN</td>\n",
       "      <td>S</td>\n",
       "    </tr>\n",
       "    <tr>\n",
       "      <th>887</th>\n",
       "      <td>888</td>\n",
       "      <td>1</td>\n",
       "      <td>1</td>\n",
       "      <td>Graham, Miss. Margaret Edith</td>\n",
       "      <td>female</td>\n",
       "      <td>19.0</td>\n",
       "      <td>0</td>\n",
       "      <td>0</td>\n",
       "      <td>112053</td>\n",
       "      <td>30.0000</td>\n",
       "      <td>B42</td>\n",
       "      <td>S</td>\n",
       "    </tr>\n",
       "    <tr>\n",
       "      <th>888</th>\n",
       "      <td>889</td>\n",
       "      <td>0</td>\n",
       "      <td>3</td>\n",
       "      <td>Johnston, Miss. Catherine Helen \"Carrie\"</td>\n",
       "      <td>female</td>\n",
       "      <td>NaN</td>\n",
       "      <td>1</td>\n",
       "      <td>2</td>\n",
       "      <td>W./C. 6607</td>\n",
       "      <td>23.4500</td>\n",
       "      <td>NaN</td>\n",
       "      <td>S</td>\n",
       "    </tr>\n",
       "    <tr>\n",
       "      <th>889</th>\n",
       "      <td>890</td>\n",
       "      <td>1</td>\n",
       "      <td>1</td>\n",
       "      <td>Behr, Mr. Karl Howell</td>\n",
       "      <td>male</td>\n",
       "      <td>26.0</td>\n",
       "      <td>0</td>\n",
       "      <td>0</td>\n",
       "      <td>111369</td>\n",
       "      <td>30.0000</td>\n",
       "      <td>C148</td>\n",
       "      <td>C</td>\n",
       "    </tr>\n",
       "    <tr>\n",
       "      <th>890</th>\n",
       "      <td>891</td>\n",
       "      <td>0</td>\n",
       "      <td>3</td>\n",
       "      <td>Dooley, Mr. Patrick</td>\n",
       "      <td>male</td>\n",
       "      <td>32.0</td>\n",
       "      <td>0</td>\n",
       "      <td>0</td>\n",
       "      <td>370376</td>\n",
       "      <td>7.7500</td>\n",
       "      <td>NaN</td>\n",
       "      <td>Q</td>\n",
       "    </tr>\n",
       "  </tbody>\n",
       "</table>\n",
       "<p>891 rows × 12 columns</p>\n",
       "</div>"
      ],
      "text/plain": [
       "     PassengerId  Survived  Pclass  \\\n",
       "0              1         0       3   \n",
       "1              2         1       1   \n",
       "2              3         1       3   \n",
       "3              4         1       1   \n",
       "4              5         0       3   \n",
       "..           ...       ...     ...   \n",
       "886          887         0       2   \n",
       "887          888         1       1   \n",
       "888          889         0       3   \n",
       "889          890         1       1   \n",
       "890          891         0       3   \n",
       "\n",
       "                                                  Name     Sex   Age  SibSp  \\\n",
       "0                              Braund, Mr. Owen Harris    male  22.0      1   \n",
       "1    Cumings, Mrs. John Bradley (Florence Briggs Th...  female  38.0      1   \n",
       "2                               Heikkinen, Miss. Laina  female  26.0      0   \n",
       "3         Futrelle, Mrs. Jacques Heath (Lily May Peel)  female  35.0      1   \n",
       "4                             Allen, Mr. William Henry    male  35.0      0   \n",
       "..                                                 ...     ...   ...    ...   \n",
       "886                              Montvila, Rev. Juozas    male  27.0      0   \n",
       "887                       Graham, Miss. Margaret Edith  female  19.0      0   \n",
       "888           Johnston, Miss. Catherine Helen \"Carrie\"  female   NaN      1   \n",
       "889                              Behr, Mr. Karl Howell    male  26.0      0   \n",
       "890                                Dooley, Mr. Patrick    male  32.0      0   \n",
       "\n",
       "     Parch            Ticket     Fare Cabin Embarked  \n",
       "0        0         A/5 21171   7.2500   NaN        S  \n",
       "1        0          PC 17599  71.2833   C85        C  \n",
       "2        0  STON/O2. 3101282   7.9250   NaN        S  \n",
       "3        0            113803  53.1000  C123        S  \n",
       "4        0            373450   8.0500   NaN        S  \n",
       "..     ...               ...      ...   ...      ...  \n",
       "886      0            211536  13.0000   NaN        S  \n",
       "887      0            112053  30.0000   B42        S  \n",
       "888      2        W./C. 6607  23.4500   NaN        S  \n",
       "889      0            111369  30.0000  C148        C  \n",
       "890      0            370376   7.7500   NaN        Q  \n",
       "\n",
       "[891 rows x 12 columns]"
      ]
     },
     "execution_count": 3,
     "metadata": {},
     "output_type": "execute_result"
    }
   ],
   "source": [
    "data_train = pd.read_csv('../input/titanic/train.csv')\n",
    "data_test = pd.read_csv('../input/titanic/test.csv')\n",
    "data_train"
   ]
  },
  {
   "cell_type": "code",
   "execution_count": 4,
   "id": "c478e4f9",
   "metadata": {
    "_cell_guid": "544098e0-5cd5-4cf7-a1d8-23b5c112e349",
    "_uuid": "7e5b3c6e-158b-488e-aac1-b3a3e47f4d8f",
    "collapsed": false,
    "execution": {
     "iopub.execute_input": "2022-07-30T09:17:58.479387Z",
     "iopub.status.busy": "2022-07-30T09:17:58.478739Z",
     "iopub.status.idle": "2022-07-30T09:17:58.530672Z",
     "shell.execute_reply": "2022-07-30T09:17:58.529758Z"
    },
    "jupyter": {
     "outputs_hidden": false
    },
    "papermill": {
     "duration": 0.068145,
     "end_time": "2022-07-30T09:17:58.533647",
     "exception": false,
     "start_time": "2022-07-30T09:17:58.465502",
     "status": "completed"
    },
    "tags": []
   },
   "outputs": [
    {
     "name": "stdout",
     "output_type": "stream",
     "text": [
      "<class 'pandas.core.frame.DataFrame'>\n",
      "RangeIndex: 891 entries, 0 to 890\n",
      "Data columns (total 12 columns):\n",
      " #   Column       Non-Null Count  Dtype  \n",
      "---  ------       --------------  -----  \n",
      " 0   PassengerId  891 non-null    int64  \n",
      " 1   Survived     891 non-null    int64  \n",
      " 2   Pclass       891 non-null    int64  \n",
      " 3   Name         891 non-null    object \n",
      " 4   Sex          891 non-null    object \n",
      " 5   Age          714 non-null    float64\n",
      " 6   SibSp        891 non-null    int64  \n",
      " 7   Parch        891 non-null    int64  \n",
      " 8   Ticket       891 non-null    object \n",
      " 9   Fare         891 non-null    float64\n",
      " 10  Cabin        204 non-null    object \n",
      " 11  Embarked     889 non-null    object \n",
      "dtypes: float64(2), int64(5), object(5)\n",
      "memory usage: 83.7+ KB\n"
     ]
    },
    {
     "data": {
      "text/html": [
       "<div>\n",
       "<style scoped>\n",
       "    .dataframe tbody tr th:only-of-type {\n",
       "        vertical-align: middle;\n",
       "    }\n",
       "\n",
       "    .dataframe tbody tr th {\n",
       "        vertical-align: top;\n",
       "    }\n",
       "\n",
       "    .dataframe thead th {\n",
       "        text-align: right;\n",
       "    }\n",
       "</style>\n",
       "<table border=\"1\" class=\"dataframe\">\n",
       "  <thead>\n",
       "    <tr style=\"text-align: right;\">\n",
       "      <th></th>\n",
       "      <th>PassengerId</th>\n",
       "      <th>Survived</th>\n",
       "      <th>Pclass</th>\n",
       "      <th>Age</th>\n",
       "      <th>SibSp</th>\n",
       "      <th>Parch</th>\n",
       "      <th>Fare</th>\n",
       "    </tr>\n",
       "  </thead>\n",
       "  <tbody>\n",
       "    <tr>\n",
       "      <th>count</th>\n",
       "      <td>891.000000</td>\n",
       "      <td>891.000000</td>\n",
       "      <td>891.000000</td>\n",
       "      <td>714.000000</td>\n",
       "      <td>891.000000</td>\n",
       "      <td>891.000000</td>\n",
       "      <td>891.000000</td>\n",
       "    </tr>\n",
       "    <tr>\n",
       "      <th>mean</th>\n",
       "      <td>446.000000</td>\n",
       "      <td>0.383838</td>\n",
       "      <td>2.308642</td>\n",
       "      <td>29.699118</td>\n",
       "      <td>0.523008</td>\n",
       "      <td>0.381594</td>\n",
       "      <td>32.204208</td>\n",
       "    </tr>\n",
       "    <tr>\n",
       "      <th>std</th>\n",
       "      <td>257.353842</td>\n",
       "      <td>0.486592</td>\n",
       "      <td>0.836071</td>\n",
       "      <td>14.526497</td>\n",
       "      <td>1.102743</td>\n",
       "      <td>0.806057</td>\n",
       "      <td>49.693429</td>\n",
       "    </tr>\n",
       "    <tr>\n",
       "      <th>min</th>\n",
       "      <td>1.000000</td>\n",
       "      <td>0.000000</td>\n",
       "      <td>1.000000</td>\n",
       "      <td>0.420000</td>\n",
       "      <td>0.000000</td>\n",
       "      <td>0.000000</td>\n",
       "      <td>0.000000</td>\n",
       "    </tr>\n",
       "    <tr>\n",
       "      <th>25%</th>\n",
       "      <td>223.500000</td>\n",
       "      <td>0.000000</td>\n",
       "      <td>2.000000</td>\n",
       "      <td>20.125000</td>\n",
       "      <td>0.000000</td>\n",
       "      <td>0.000000</td>\n",
       "      <td>7.910400</td>\n",
       "    </tr>\n",
       "    <tr>\n",
       "      <th>50%</th>\n",
       "      <td>446.000000</td>\n",
       "      <td>0.000000</td>\n",
       "      <td>3.000000</td>\n",
       "      <td>28.000000</td>\n",
       "      <td>0.000000</td>\n",
       "      <td>0.000000</td>\n",
       "      <td>14.454200</td>\n",
       "    </tr>\n",
       "    <tr>\n",
       "      <th>75%</th>\n",
       "      <td>668.500000</td>\n",
       "      <td>1.000000</td>\n",
       "      <td>3.000000</td>\n",
       "      <td>38.000000</td>\n",
       "      <td>1.000000</td>\n",
       "      <td>0.000000</td>\n",
       "      <td>31.000000</td>\n",
       "    </tr>\n",
       "    <tr>\n",
       "      <th>max</th>\n",
       "      <td>891.000000</td>\n",
       "      <td>1.000000</td>\n",
       "      <td>3.000000</td>\n",
       "      <td>80.000000</td>\n",
       "      <td>8.000000</td>\n",
       "      <td>6.000000</td>\n",
       "      <td>512.329200</td>\n",
       "    </tr>\n",
       "  </tbody>\n",
       "</table>\n",
       "</div>"
      ],
      "text/plain": [
       "       PassengerId    Survived      Pclass         Age       SibSp  \\\n",
       "count   891.000000  891.000000  891.000000  714.000000  891.000000   \n",
       "mean    446.000000    0.383838    2.308642   29.699118    0.523008   \n",
       "std     257.353842    0.486592    0.836071   14.526497    1.102743   \n",
       "min       1.000000    0.000000    1.000000    0.420000    0.000000   \n",
       "25%     223.500000    0.000000    2.000000   20.125000    0.000000   \n",
       "50%     446.000000    0.000000    3.000000   28.000000    0.000000   \n",
       "75%     668.500000    1.000000    3.000000   38.000000    1.000000   \n",
       "max     891.000000    1.000000    3.000000   80.000000    8.000000   \n",
       "\n",
       "            Parch        Fare  \n",
       "count  891.000000  891.000000  \n",
       "mean     0.381594   32.204208  \n",
       "std      0.806057   49.693429  \n",
       "min      0.000000    0.000000  \n",
       "25%      0.000000    7.910400  \n",
       "50%      0.000000   14.454200  \n",
       "75%      0.000000   31.000000  \n",
       "max      6.000000  512.329200  "
      ]
     },
     "execution_count": 4,
     "metadata": {},
     "output_type": "execute_result"
    }
   ],
   "source": [
    "data_train.info()\n",
    "data_train.describe()"
   ]
  },
  {
   "cell_type": "code",
   "execution_count": 5,
   "id": "3ff75c46",
   "metadata": {
    "_cell_guid": "cfef50bb-8f4c-4c75-aa65-dab9645a293d",
    "_uuid": "aafa6d55-dc01-4f96-a2b4-7fc18b88af18",
    "collapsed": false,
    "execution": {
     "iopub.execute_input": "2022-07-30T09:17:58.560568Z",
     "iopub.status.busy": "2022-07-30T09:17:58.560181Z",
     "iopub.status.idle": "2022-07-30T09:17:58.586668Z",
     "shell.execute_reply": "2022-07-30T09:17:58.585317Z"
    },
    "jupyter": {
     "outputs_hidden": false
    },
    "papermill": {
     "duration": 0.043179,
     "end_time": "2022-07-30T09:17:58.589810",
     "exception": false,
     "start_time": "2022-07-30T09:17:58.546631",
     "status": "completed"
    },
    "tags": []
   },
   "outputs": [
    {
     "name": "stdout",
     "output_type": "stream",
     "text": [
      "Your selected dataframe has 12 columns.\n",
      "There are 3 columns that have missing values.\n"
     ]
    },
    {
     "data": {
      "text/html": [
       "<div>\n",
       "<style scoped>\n",
       "    .dataframe tbody tr th:only-of-type {\n",
       "        vertical-align: middle;\n",
       "    }\n",
       "\n",
       "    .dataframe tbody tr th {\n",
       "        vertical-align: top;\n",
       "    }\n",
       "\n",
       "    .dataframe thead th {\n",
       "        text-align: right;\n",
       "    }\n",
       "</style>\n",
       "<table border=\"1\" class=\"dataframe\">\n",
       "  <thead>\n",
       "    <tr style=\"text-align: right;\">\n",
       "      <th></th>\n",
       "      <th>Missing Values</th>\n",
       "      <th>% of Total Values</th>\n",
       "    </tr>\n",
       "  </thead>\n",
       "  <tbody>\n",
       "    <tr>\n",
       "      <th>Cabin</th>\n",
       "      <td>687</td>\n",
       "      <td>77.1</td>\n",
       "    </tr>\n",
       "    <tr>\n",
       "      <th>Age</th>\n",
       "      <td>177</td>\n",
       "      <td>19.9</td>\n",
       "    </tr>\n",
       "    <tr>\n",
       "      <th>Embarked</th>\n",
       "      <td>2</td>\n",
       "      <td>0.2</td>\n",
       "    </tr>\n",
       "  </tbody>\n",
       "</table>\n",
       "</div>"
      ],
      "text/plain": [
       "          Missing Values  % of Total Values\n",
       "Cabin                687               77.1\n",
       "Age                  177               19.9\n",
       "Embarked               2                0.2"
      ]
     },
     "execution_count": 5,
     "metadata": {},
     "output_type": "execute_result"
    }
   ],
   "source": [
    "def missing_values_table(df):\n",
    "        # Total missing values\n",
    "        mis_val = df.isnull().sum()\n",
    "        \n",
    "        # Percentage of missing values\n",
    "        mis_val_percent = 100 * df.isnull().sum() / len(df)\n",
    "        \n",
    "        # Make a table with the results\n",
    "        mis_val_table = pd.concat([mis_val, mis_val_percent], axis=1)\n",
    "        \n",
    "        # Rename the columns\n",
    "        mis_val_table_ren_columns = mis_val_table.rename(\n",
    "        columns = {0 : 'Missing Values', 1 : '% of Total Values'})\n",
    "        \n",
    "        # Sort the table by percentage of missing descending\n",
    "        mis_val_table_ren_columns = mis_val_table_ren_columns[\n",
    "            mis_val_table_ren_columns.iloc[:,1] != 0].sort_values(\n",
    "        '% of Total Values', ascending=False).round(1)\n",
    "        \n",
    "        # Print some summary information\n",
    "        print (\"Your selected dataframe has \" + str(df.shape[1]) + \" columns.\\n\"      \n",
    "            \"There are \" + str(mis_val_table_ren_columns.shape[0]) +\n",
    "              \" columns that have missing values.\")\n",
    "        \n",
    "        # Return the dataframe with missing information\n",
    "        return mis_val_table_ren_columns\n",
    "    \n",
    "missing_values_table(data_train)"
   ]
  },
  {
   "cell_type": "code",
   "execution_count": 6,
   "id": "e750e46e",
   "metadata": {
    "_cell_guid": "8f5dc78d-066d-4ea5-bcda-4b4961234428",
    "_uuid": "85a11c23-0c73-4148-9269-fd2a51472853",
    "collapsed": false,
    "execution": {
     "iopub.execute_input": "2022-07-30T09:17:58.617309Z",
     "iopub.status.busy": "2022-07-30T09:17:58.616917Z",
     "iopub.status.idle": "2022-07-30T09:17:58.630118Z",
     "shell.execute_reply": "2022-07-30T09:17:58.629202Z"
    },
    "jupyter": {
     "outputs_hidden": false
    },
    "papermill": {
     "duration": 0.029683,
     "end_time": "2022-07-30T09:17:58.632348",
     "exception": false,
     "start_time": "2022-07-30T09:17:58.602665",
     "status": "completed"
    },
    "tags": []
   },
   "outputs": [
    {
     "name": "stdout",
     "output_type": "stream",
     "text": [
      "Your selected dataframe has 12 columns.\n",
      "There are 3 columns that have missing values.\n",
      "We will remove 1 columns.\n"
     ]
    }
   ],
   "source": [
    "# Get the columns with > 50% missing\n",
    "missing_df = missing_values_table(data_train);\n",
    "missing_columns = list(missing_df[missing_df['% of Total Values'] > 50].index)\n",
    "print('We will remove %d columns.' % len(missing_columns))"
   ]
  },
  {
   "cell_type": "code",
   "execution_count": 7,
   "id": "a522c4ef",
   "metadata": {
    "_cell_guid": "bd80b841-933b-4e3d-a9ec-5725168ea316",
    "_uuid": "b5140b5e-86b3-4255-815b-a8ab191532c8",
    "collapsed": false,
    "execution": {
     "iopub.execute_input": "2022-07-30T09:17:58.659348Z",
     "iopub.status.busy": "2022-07-30T09:17:58.658925Z",
     "iopub.status.idle": "2022-07-30T09:17:58.684028Z",
     "shell.execute_reply": "2022-07-30T09:17:58.682938Z"
    },
    "jupyter": {
     "outputs_hidden": false
    },
    "papermill": {
     "duration": 0.041602,
     "end_time": "2022-07-30T09:17:58.686410",
     "exception": false,
     "start_time": "2022-07-30T09:17:58.644808",
     "status": "completed"
    },
    "tags": []
   },
   "outputs": [
    {
     "data": {
      "text/html": [
       "<div>\n",
       "<style scoped>\n",
       "    .dataframe tbody tr th:only-of-type {\n",
       "        vertical-align: middle;\n",
       "    }\n",
       "\n",
       "    .dataframe tbody tr th {\n",
       "        vertical-align: top;\n",
       "    }\n",
       "\n",
       "    .dataframe thead th {\n",
       "        text-align: right;\n",
       "    }\n",
       "</style>\n",
       "<table border=\"1\" class=\"dataframe\">\n",
       "  <thead>\n",
       "    <tr style=\"text-align: right;\">\n",
       "      <th></th>\n",
       "      <th>PassengerId</th>\n",
       "      <th>Survived</th>\n",
       "      <th>Pclass</th>\n",
       "      <th>Name</th>\n",
       "      <th>Sex</th>\n",
       "      <th>Age</th>\n",
       "      <th>SibSp</th>\n",
       "      <th>Parch</th>\n",
       "      <th>Ticket</th>\n",
       "      <th>Fare</th>\n",
       "      <th>Embarked</th>\n",
       "    </tr>\n",
       "  </thead>\n",
       "  <tbody>\n",
       "    <tr>\n",
       "      <th>0</th>\n",
       "      <td>1</td>\n",
       "      <td>0</td>\n",
       "      <td>3</td>\n",
       "      <td>Braund, Mr. Owen Harris</td>\n",
       "      <td>male</td>\n",
       "      <td>22.0</td>\n",
       "      <td>1</td>\n",
       "      <td>0</td>\n",
       "      <td>A/5 21171</td>\n",
       "      <td>7.2500</td>\n",
       "      <td>S</td>\n",
       "    </tr>\n",
       "    <tr>\n",
       "      <th>1</th>\n",
       "      <td>2</td>\n",
       "      <td>1</td>\n",
       "      <td>1</td>\n",
       "      <td>Cumings, Mrs. John Bradley (Florence Briggs Th...</td>\n",
       "      <td>female</td>\n",
       "      <td>38.0</td>\n",
       "      <td>1</td>\n",
       "      <td>0</td>\n",
       "      <td>PC 17599</td>\n",
       "      <td>71.2833</td>\n",
       "      <td>C</td>\n",
       "    </tr>\n",
       "    <tr>\n",
       "      <th>2</th>\n",
       "      <td>3</td>\n",
       "      <td>1</td>\n",
       "      <td>3</td>\n",
       "      <td>Heikkinen, Miss. Laina</td>\n",
       "      <td>female</td>\n",
       "      <td>26.0</td>\n",
       "      <td>0</td>\n",
       "      <td>0</td>\n",
       "      <td>STON/O2. 3101282</td>\n",
       "      <td>7.9250</td>\n",
       "      <td>S</td>\n",
       "    </tr>\n",
       "    <tr>\n",
       "      <th>3</th>\n",
       "      <td>4</td>\n",
       "      <td>1</td>\n",
       "      <td>1</td>\n",
       "      <td>Futrelle, Mrs. Jacques Heath (Lily May Peel)</td>\n",
       "      <td>female</td>\n",
       "      <td>35.0</td>\n",
       "      <td>1</td>\n",
       "      <td>0</td>\n",
       "      <td>113803</td>\n",
       "      <td>53.1000</td>\n",
       "      <td>S</td>\n",
       "    </tr>\n",
       "    <tr>\n",
       "      <th>4</th>\n",
       "      <td>5</td>\n",
       "      <td>0</td>\n",
       "      <td>3</td>\n",
       "      <td>Allen, Mr. William Henry</td>\n",
       "      <td>male</td>\n",
       "      <td>35.0</td>\n",
       "      <td>0</td>\n",
       "      <td>0</td>\n",
       "      <td>373450</td>\n",
       "      <td>8.0500</td>\n",
       "      <td>S</td>\n",
       "    </tr>\n",
       "    <tr>\n",
       "      <th>...</th>\n",
       "      <td>...</td>\n",
       "      <td>...</td>\n",
       "      <td>...</td>\n",
       "      <td>...</td>\n",
       "      <td>...</td>\n",
       "      <td>...</td>\n",
       "      <td>...</td>\n",
       "      <td>...</td>\n",
       "      <td>...</td>\n",
       "      <td>...</td>\n",
       "      <td>...</td>\n",
       "    </tr>\n",
       "    <tr>\n",
       "      <th>886</th>\n",
       "      <td>887</td>\n",
       "      <td>0</td>\n",
       "      <td>2</td>\n",
       "      <td>Montvila, Rev. Juozas</td>\n",
       "      <td>male</td>\n",
       "      <td>27.0</td>\n",
       "      <td>0</td>\n",
       "      <td>0</td>\n",
       "      <td>211536</td>\n",
       "      <td>13.0000</td>\n",
       "      <td>S</td>\n",
       "    </tr>\n",
       "    <tr>\n",
       "      <th>887</th>\n",
       "      <td>888</td>\n",
       "      <td>1</td>\n",
       "      <td>1</td>\n",
       "      <td>Graham, Miss. Margaret Edith</td>\n",
       "      <td>female</td>\n",
       "      <td>19.0</td>\n",
       "      <td>0</td>\n",
       "      <td>0</td>\n",
       "      <td>112053</td>\n",
       "      <td>30.0000</td>\n",
       "      <td>S</td>\n",
       "    </tr>\n",
       "    <tr>\n",
       "      <th>888</th>\n",
       "      <td>889</td>\n",
       "      <td>0</td>\n",
       "      <td>3</td>\n",
       "      <td>Johnston, Miss. Catherine Helen \"Carrie\"</td>\n",
       "      <td>female</td>\n",
       "      <td>NaN</td>\n",
       "      <td>1</td>\n",
       "      <td>2</td>\n",
       "      <td>W./C. 6607</td>\n",
       "      <td>23.4500</td>\n",
       "      <td>S</td>\n",
       "    </tr>\n",
       "    <tr>\n",
       "      <th>889</th>\n",
       "      <td>890</td>\n",
       "      <td>1</td>\n",
       "      <td>1</td>\n",
       "      <td>Behr, Mr. Karl Howell</td>\n",
       "      <td>male</td>\n",
       "      <td>26.0</td>\n",
       "      <td>0</td>\n",
       "      <td>0</td>\n",
       "      <td>111369</td>\n",
       "      <td>30.0000</td>\n",
       "      <td>C</td>\n",
       "    </tr>\n",
       "    <tr>\n",
       "      <th>890</th>\n",
       "      <td>891</td>\n",
       "      <td>0</td>\n",
       "      <td>3</td>\n",
       "      <td>Dooley, Mr. Patrick</td>\n",
       "      <td>male</td>\n",
       "      <td>32.0</td>\n",
       "      <td>0</td>\n",
       "      <td>0</td>\n",
       "      <td>370376</td>\n",
       "      <td>7.7500</td>\n",
       "      <td>Q</td>\n",
       "    </tr>\n",
       "  </tbody>\n",
       "</table>\n",
       "<p>891 rows × 11 columns</p>\n",
       "</div>"
      ],
      "text/plain": [
       "     PassengerId  Survived  Pclass  \\\n",
       "0              1         0       3   \n",
       "1              2         1       1   \n",
       "2              3         1       3   \n",
       "3              4         1       1   \n",
       "4              5         0       3   \n",
       "..           ...       ...     ...   \n",
       "886          887         0       2   \n",
       "887          888         1       1   \n",
       "888          889         0       3   \n",
       "889          890         1       1   \n",
       "890          891         0       3   \n",
       "\n",
       "                                                  Name     Sex   Age  SibSp  \\\n",
       "0                              Braund, Mr. Owen Harris    male  22.0      1   \n",
       "1    Cumings, Mrs. John Bradley (Florence Briggs Th...  female  38.0      1   \n",
       "2                               Heikkinen, Miss. Laina  female  26.0      0   \n",
       "3         Futrelle, Mrs. Jacques Heath (Lily May Peel)  female  35.0      1   \n",
       "4                             Allen, Mr. William Henry    male  35.0      0   \n",
       "..                                                 ...     ...   ...    ...   \n",
       "886                              Montvila, Rev. Juozas    male  27.0      0   \n",
       "887                       Graham, Miss. Margaret Edith  female  19.0      0   \n",
       "888           Johnston, Miss. Catherine Helen \"Carrie\"  female   NaN      1   \n",
       "889                              Behr, Mr. Karl Howell    male  26.0      0   \n",
       "890                                Dooley, Mr. Patrick    male  32.0      0   \n",
       "\n",
       "     Parch            Ticket     Fare Embarked  \n",
       "0        0         A/5 21171   7.2500        S  \n",
       "1        0          PC 17599  71.2833        C  \n",
       "2        0  STON/O2. 3101282   7.9250        S  \n",
       "3        0            113803  53.1000        S  \n",
       "4        0            373450   8.0500        S  \n",
       "..     ...               ...      ...      ...  \n",
       "886      0            211536  13.0000        S  \n",
       "887      0            112053  30.0000        S  \n",
       "888      2        W./C. 6607  23.4500        S  \n",
       "889      0            111369  30.0000        C  \n",
       "890      0            370376   7.7500        Q  \n",
       "\n",
       "[891 rows x 11 columns]"
      ]
     },
     "execution_count": 7,
     "metadata": {},
     "output_type": "execute_result"
    }
   ],
   "source": [
    "# Drop the columns\n",
    "data_train = data_train.drop(columns = list(missing_columns))\n",
    "data_train"
   ]
  },
  {
   "cell_type": "markdown",
   "id": "69ed3b18",
   "metadata": {
    "_cell_guid": "335c75f0-8b3d-4cf0-9178-3c8657d85b1e",
    "_uuid": "a03ecb22-507b-4703-8b88-a5eb9321e71f",
    "papermill": {
     "duration": 0.013228,
     "end_time": "2022-07-30T09:17:58.712808",
     "exception": false,
     "start_time": "2022-07-30T09:17:58.699580",
     "status": "completed"
    },
    "tags": []
   },
   "source": [
    "# EXPLORATORY DATA ANALYSIS"
   ]
  },
  {
   "cell_type": "code",
   "execution_count": 8,
   "id": "54a1885f",
   "metadata": {
    "_cell_guid": "ca02a4f2-6611-461f-8bf6-9aa21a20ae3a",
    "_uuid": "e7525cd8-ec8d-452f-a91d-373cd51b1f68",
    "collapsed": false,
    "execution": {
     "iopub.execute_input": "2022-07-30T09:17:58.740965Z",
     "iopub.status.busy": "2022-07-30T09:17:58.739901Z",
     "iopub.status.idle": "2022-07-30T09:17:58.944055Z",
     "shell.execute_reply": "2022-07-30T09:17:58.942850Z"
    },
    "jupyter": {
     "outputs_hidden": false
    },
    "papermill": {
     "duration": 0.220749,
     "end_time": "2022-07-30T09:17:58.946529",
     "exception": false,
     "start_time": "2022-07-30T09:17:58.725780",
     "status": "completed"
    },
    "tags": []
   },
   "outputs": [
    {
     "data": {
      "image/png": "[encoded data removed]",
      "text/plain": [
       "<Figure size 432x288 with 1 Axes>"
      ]
     },
     "metadata": {
      "needs_background": "light"
     },
     "output_type": "display_data"
    }
   ],
   "source": [
    "plt.hist(data_train['Fare'].dropna(), bins = 20, edgecolor = 'black');\n",
    "plt.xlabel('Fare'); \n",
    "plt.ylabel('Count'); \n",
    "plt.title('Fare Distribution');"
   ]
  },
  {
   "cell_type": "markdown",
   "id": "4e38737f",
   "metadata": {
    "_cell_guid": "aff6a67d-208d-4f0c-95c2-ebcf16e07e45",
    "_uuid": "26029258-12c1-4426-9aab-fa62156e2de5",
    "papermill": {
     "duration": 0.012901,
     "end_time": "2022-07-30T09:17:58.972742",
     "exception": false,
     "start_time": "2022-07-30T09:17:58.959841",
     "status": "completed"
    },
    "tags": []
   },
   "source": [
    "# Looking for Relationships"
   ]
  },
  {
   "cell_type": "code",
   "execution_count": 9,
   "id": "4786a751",
   "metadata": {
    "_cell_guid": "b7386253-298e-4361-b6dd-2e0a1a6a26e3",
    "_uuid": "a55aac9b-2dbd-45b2-82cb-df8fd450e568",
    "collapsed": false,
    "execution": {
     "iopub.execute_input": "2022-07-30T09:17:59.000694Z",
     "iopub.status.busy": "2022-07-30T09:17:59.000314Z",
     "iopub.status.idle": "2022-07-30T09:17:59.012966Z",
     "shell.execute_reply": "2022-07-30T09:17:59.011868Z"
    },
    "jupyter": {
     "outputs_hidden": false
    },
    "papermill": {
     "duration": 0.029385,
     "end_time": "2022-07-30T09:17:59.015201",
     "exception": false,
     "start_time": "2022-07-30T09:17:58.985816",
     "status": "completed"
    },
    "tags": []
   },
   "outputs": [
    {
     "data": {
      "text/plain": [
       "['male', 'female']"
      ]
     },
     "execution_count": 9,
     "metadata": {},
     "output_type": "execute_result"
    }
   ],
   "source": [
    "# Create a list of passengers type with more than 100 measurements\n",
    "genders = data_train.dropna(subset=['Survived'])\n",
    "genders = genders['Sex'].value_counts()\n",
    "genders = list(genders[genders.values > 100].index)\n",
    "genders"
   ]
  },
  {
   "cell_type": "code",
   "execution_count": 10,
   "id": "83734a90",
   "metadata": {
    "_cell_guid": "d0e3ff75-a89b-42dc-a878-5b450b8425ef",
    "_uuid": "c5a0b0e3-4774-48bf-a807-4fbc0f3ac34e",
    "collapsed": false,
    "execution": {
     "iopub.execute_input": "2022-07-30T09:17:59.044126Z",
     "iopub.status.busy": "2022-07-30T09:17:59.043338Z",
     "iopub.status.idle": "2022-07-30T09:17:59.272789Z",
     "shell.execute_reply": "2022-07-30T09:17:59.271922Z"
    },
    "jupyter": {
     "outputs_hidden": false
    },
    "papermill": {
     "duration": 0.246764,
     "end_time": "2022-07-30T09:17:59.275136",
     "exception": false,
     "start_time": "2022-07-30T09:17:59.028372",
     "status": "completed"
    },
    "tags": []
   },
   "outputs": [
    {
     "data": {
      "text/plain": [
       "<matplotlib.legend.Legend at 0x7f66dcccbad0>"
      ]
     },
     "execution_count": 10,
     "metadata": {},
     "output_type": "execute_result"
    },
    {
     "data": {
      "image/png": "[encoded data removed]",
      "text/plain": [
       "<Figure size 432x288 with 1 Axes>"
      ]
     },
     "metadata": {
      "needs_background": "light"
     },
     "output_type": "display_data"
    }
   ],
   "source": [
    "# Plot each building\n",
    "for p_type in genders:\n",
    "    # Select the building type\n",
    "    subset = data_train[data_train['Sex'] == p_type]\n",
    "    \n",
    "    # Density plot of Energy Star scores\n",
    "    sns.kdeplot(subset['Survived'].dropna(),\n",
    "               label = p_type, shade = False, alpha = 0.8);\n",
    "    \n",
    "# label the plot\n",
    "plt.xlabel('Survived', size = 20); plt.ylabel('Density', size = 20); \n",
    "plt.title('Density Plot of Survival by Gender', size = 28);\n",
    "plt.legend()"
   ]
  },
  {
   "cell_type": "code",
   "execution_count": 11,
   "id": "c159ab1b",
   "metadata": {
    "_cell_guid": "c75e3685-b3fb-4189-8184-a0e5eed3dd39",
    "_uuid": "c47f5c5d-5a00-44df-b0aa-32da023110c7",
    "collapsed": false,
    "execution": {
     "iopub.execute_input": "2022-07-30T09:17:59.304908Z",
     "iopub.status.busy": "2022-07-30T09:17:59.304334Z",
     "iopub.status.idle": "2022-07-30T09:17:59.313963Z",
     "shell.execute_reply": "2022-07-30T09:17:59.313141Z"
    },
    "jupyter": {
     "outputs_hidden": false
    },
    "papermill": {
     "duration": 0.027259,
     "end_time": "2022-07-30T09:17:59.316257",
     "exception": false,
     "start_time": "2022-07-30T09:17:59.288998",
     "status": "completed"
    },
    "tags": []
   },
   "outputs": [
    {
     "data": {
      "text/plain": [
       "[3, 1, 2]"
      ]
     },
     "execution_count": 11,
     "metadata": {},
     "output_type": "execute_result"
    }
   ],
   "source": [
    "# Create a list of passengers type with more than 100 measurements\n",
    "p_class = data_train.dropna(subset=['Survived'])\n",
    "p_class = p_class['Pclass'].value_counts()\n",
    "p_class = list(p_class[p_class.values > 100].index)\n",
    "p_class"
   ]
  },
  {
   "cell_type": "code",
   "execution_count": 12,
   "id": "1e4921f5",
   "metadata": {
    "_cell_guid": "c216ec90-5c1c-4fb2-8f53-5b48df8001fc",
    "_uuid": "bd36faa8-f6ee-47a9-adbb-67e6076deb58",
    "collapsed": false,
    "execution": {
     "iopub.execute_input": "2022-07-30T09:17:59.346354Z",
     "iopub.status.busy": "2022-07-30T09:17:59.345916Z",
     "iopub.status.idle": "2022-07-30T09:17:59.552311Z",
     "shell.execute_reply": "2022-07-30T09:17:59.551207Z"
    },
    "jupyter": {
     "outputs_hidden": false
    },
    "papermill": {
     "duration": 0.224536,
     "end_time": "2022-07-30T09:17:59.554874",
     "exception": false,
     "start_time": "2022-07-30T09:17:59.330338",
     "status": "completed"
    },
    "tags": []
   },
   "outputs": [
    {
     "data": {
      "text/plain": [
       "<matplotlib.legend.Legend at 0x7f66dcbabd10>"
      ]
     },
     "execution_count": 12,
     "metadata": {},
     "output_type": "execute_result"
    },
    {
     "data": {
      "image/png": "[encoded data removed]",
      "text/plain": [
       "<Figure size 432x288 with 1 Axes>"
      ]
     },
     "metadata": {
      "needs_background": "light"
     },
     "output_type": "display_data"
    }
   ],
   "source": [
    "# Plot each building\n",
    "for p_type in p_class:\n",
    "    # Select the building type\n",
    "    subset = data_train[data_train['Pclass'] == p_type]\n",
    "    \n",
    "    # Density plot of Energy Star scores\n",
    "    sns.kdeplot(subset['Survived'].dropna(),\n",
    "               label = p_type, shade = False, alpha = 0.8);\n",
    "    \n",
    "# label the plot\n",
    "plt.xlabel('Survived', size = 20); plt.ylabel('Density', size = 20); \n",
    "plt.title('Density Plot of Survival by Ticket class', size = 28);\n",
    "plt.legend()"
   ]
  },
  {
   "cell_type": "code",
   "execution_count": 13,
   "id": "dfb0bda5",
   "metadata": {
    "_cell_guid": "d0e49cf1-e6fe-4456-bb54-4a0ca27f0095",
    "_uuid": "23428514-dd3a-4361-a6b1-88ed96c94ef5",
    "collapsed": false,
    "execution": {
     "iopub.execute_input": "2022-07-30T09:17:59.586973Z",
     "iopub.status.busy": "2022-07-30T09:17:59.586553Z",
     "iopub.status.idle": "2022-07-30T09:17:59.600254Z",
     "shell.execute_reply": "2022-07-30T09:17:59.599174Z"
    },
    "jupyter": {
     "outputs_hidden": false
    },
    "papermill": {
     "duration": 0.032633,
     "end_time": "2022-07-30T09:17:59.602782",
     "exception": false,
     "start_time": "2022-07-30T09:17:59.570149",
     "status": "completed"
    },
    "tags": []
   },
   "outputs": [
    {
     "data": {
      "text/plain": [
       "['S', 'C', 'Q']"
      ]
     },
     "execution_count": 13,
     "metadata": {},
     "output_type": "execute_result"
    }
   ],
   "source": [
    "# Create a list of passengers type with more than 100 measurements\n",
    "emb = data_train.dropna(subset=['Survived'])\n",
    "emb = emb['Embarked'].value_counts()\n",
    "emb = list(emb[emb.values > 50].index)\n",
    "emb"
   ]
  },
  {
   "cell_type": "code",
   "execution_count": 14,
   "id": "3cd1993c",
   "metadata": {
    "_cell_guid": "6316c18a-624e-48c1-9309-83360c2d2f80",
    "_uuid": "30c5e226-570e-441a-8dae-d49a83d37bdf",
    "collapsed": false,
    "execution": {
     "iopub.execute_input": "2022-07-30T09:17:59.634511Z",
     "iopub.status.busy": "2022-07-30T09:17:59.633564Z",
     "iopub.status.idle": "2022-07-30T09:17:59.860292Z",
     "shell.execute_reply": "2022-07-30T09:17:59.859116Z"
    },
    "jupyter": {
     "outputs_hidden": false
    },
    "papermill": {
     "duration": 0.245237,
     "end_time": "2022-07-30T09:17:59.862796",
     "exception": false,
     "start_time": "2022-07-30T09:17:59.617559",
     "status": "completed"
    },
    "tags": []
   },
   "outputs": [
    {
     "data": {
      "text/plain": [
       "<matplotlib.legend.Legend at 0x7f66d4abfcd0>"
      ]
     },
     "execution_count": 14,
     "metadata": {},
     "output_type": "execute_result"
    },
    {
     "data": {
      "image/png": "[encoded data removed]",
      "text/plain": [
       "<Figure size 432x288 with 1 Axes>"
      ]
     },
     "metadata": {
      "needs_background": "light"
     },
     "output_type": "display_data"
    }
   ],
   "source": [
    "# Plot each building\n",
    "for p_type in emb:\n",
    "    # Select the building type\n",
    "    subset = data_train[data_train['Embarked'] == p_type]\n",
    "    \n",
    "    # Density plot of Energy Star scores\n",
    "    sns.kdeplot(subset['Survived'].dropna(),\n",
    "               label = p_type, shade = False, alpha = 0.8);\n",
    "    \n",
    "# label the plot\n",
    "plt.xlabel('Survived', size = 20); plt.ylabel('Density', size = 20); \n",
    "plt.title('Density Plot of Survival by Embarkation', size = 28);\n",
    "plt.legend()"
   ]
  },
  {
   "cell_type": "code",
   "execution_count": 15,
   "id": "109f15c7",
   "metadata": {
    "_cell_guid": "11d11ccc-f18e-4236-9553-039160fae538",
    "_uuid": "d758702f-2b78-4280-8cff-b611a12380fd",
    "collapsed": false,
    "execution": {
     "iopub.execute_input": "2022-07-30T09:17:59.897230Z",
     "iopub.status.busy": "2022-07-30T09:17:59.896807Z",
     "iopub.status.idle": "2022-07-30T09:17:59.908890Z",
     "shell.execute_reply": "2022-07-30T09:17:59.907301Z"
    },
    "jupyter": {
     "outputs_hidden": false
    },
    "papermill": {
     "duration": 0.031752,
     "end_time": "2022-07-30T09:17:59.911230",
     "exception": false,
     "start_time": "2022-07-30T09:17:59.879478",
     "status": "completed"
    },
    "tags": []
   },
   "outputs": [
    {
     "name": "stdout",
     "output_type": "stream",
     "text": [
      "Pclass        -0.338481\n",
      "Age           -0.077221\n",
      "SibSp         -0.035322\n",
      "PassengerId   -0.005007\n",
      "Parch          0.081629\n",
      "Fare           0.257307\n",
      "Survived       1.000000\n",
      "Name: Survived, dtype: float64 \n",
      "\n",
      "Pclass        -0.338481\n",
      "Age           -0.077221\n",
      "SibSp         -0.035322\n",
      "PassengerId   -0.005007\n",
      "Parch          0.081629\n",
      "Fare           0.257307\n",
      "Survived       1.000000\n",
      "Name: Survived, dtype: float64\n"
     ]
    }
   ],
   "source": [
    "# Find all correlations and sort \n",
    "correlations_data = data_train.corr()['Survived'].sort_values()\n",
    "\n",
    "# Print the most negative correlations\n",
    "print(correlations_data.head(15), '\\n')\n",
    "\n",
    "# Print the most positive correlations\n",
    "print(correlations_data.tail(15))"
   ]
  },
  {
   "cell_type": "code",
   "execution_count": 16,
   "id": "7568a897",
   "metadata": {
    "_cell_guid": "28dc38a0-98b2-46a6-a8a1-1172dfddeba8",
    "_uuid": "26378906-c5bd-4398-b568-a661476e9142",
    "collapsed": false,
    "execution": {
     "iopub.execute_input": "2022-07-30T09:17:59.945938Z",
     "iopub.status.busy": "2022-07-30T09:17:59.945568Z",
     "iopub.status.idle": "2022-07-30T09:17:59.964296Z",
     "shell.execute_reply": "2022-07-30T09:17:59.962793Z"
    },
    "jupyter": {
     "outputs_hidden": false
    },
    "papermill": {
     "duration": 0.039662,
     "end_time": "2022-07-30T09:17:59.966938",
     "exception": false,
     "start_time": "2022-07-30T09:17:59.927276",
     "status": "completed"
    },
    "tags": []
   },
   "outputs": [],
   "source": [
    "data_train = pd.concat([data_train, pd.get_dummies(data_train[['Sex','Embarked']])], axis = 1)\n",
    "data_test = pd.concat([data_test, pd.get_dummies(data_test[['Sex','Embarked']])], axis = 1)"
   ]
  },
  {
   "cell_type": "code",
   "execution_count": 17,
   "id": "e1fb6fb6",
   "metadata": {
    "_cell_guid": "b396d221-f302-4871-8b93-8c9acc3f4993",
    "_uuid": "5e4eaf4d-3697-469b-b887-f6ad93a769d8",
    "collapsed": false,
    "execution": {
     "iopub.execute_input": "2022-07-30T09:18:00.000625Z",
     "iopub.status.busy": "2022-07-30T09:18:00.000276Z",
     "iopub.status.idle": "2022-07-30T09:18:00.025410Z",
     "shell.execute_reply": "2022-07-30T09:18:00.024460Z"
    },
    "jupyter": {
     "outputs_hidden": false
    },
    "papermill": {
     "duration": 0.044974,
     "end_time": "2022-07-30T09:18:00.027717",
     "exception": false,
     "start_time": "2022-07-30T09:17:59.982743",
     "status": "completed"
    },
    "tags": []
   },
   "outputs": [
    {
     "data": {
      "text/html": [
       "<div>\n",
       "<style scoped>\n",
       "    .dataframe tbody tr th:only-of-type {\n",
       "        vertical-align: middle;\n",
       "    }\n",
       "\n",
       "    .dataframe tbody tr th {\n",
       "        vertical-align: top;\n",
       "    }\n",
       "\n",
       "    .dataframe thead th {\n",
       "        text-align: right;\n",
       "    }\n",
       "</style>\n",
       "<table border=\"1\" class=\"dataframe\">\n",
       "  <thead>\n",
       "    <tr style=\"text-align: right;\">\n",
       "      <th></th>\n",
       "      <th>PassengerId</th>\n",
       "      <th>Survived</th>\n",
       "      <th>Pclass</th>\n",
       "      <th>Name</th>\n",
       "      <th>Sex</th>\n",
       "      <th>Age</th>\n",
       "      <th>SibSp</th>\n",
       "      <th>Parch</th>\n",
       "      <th>Ticket</th>\n",
       "      <th>Fare</th>\n",
       "      <th>Embarked</th>\n",
       "      <th>Sex_female</th>\n",
       "      <th>Sex_male</th>\n",
       "      <th>Embarked_C</th>\n",
       "      <th>Embarked_Q</th>\n",
       "      <th>Embarked_S</th>\n",
       "    </tr>\n",
       "  </thead>\n",
       "  <tbody>\n",
       "    <tr>\n",
       "      <th>0</th>\n",
       "      <td>1</td>\n",
       "      <td>0</td>\n",
       "      <td>3</td>\n",
       "      <td>Braund, Mr. Owen Harris</td>\n",
       "      <td>male</td>\n",
       "      <td>22.0</td>\n",
       "      <td>1</td>\n",
       "      <td>0</td>\n",
       "      <td>A/5 21171</td>\n",
       "      <td>7.2500</td>\n",
       "      <td>S</td>\n",
       "      <td>0</td>\n",
       "      <td>1</td>\n",
       "      <td>0</td>\n",
       "      <td>0</td>\n",
       "      <td>1</td>\n",
       "    </tr>\n",
       "    <tr>\n",
       "      <th>1</th>\n",
       "      <td>2</td>\n",
       "      <td>1</td>\n",
       "      <td>1</td>\n",
       "      <td>Cumings, Mrs. John Bradley (Florence Briggs Th...</td>\n",
       "      <td>female</td>\n",
       "      <td>38.0</td>\n",
       "      <td>1</td>\n",
       "      <td>0</td>\n",
       "      <td>PC 17599</td>\n",
       "      <td>71.2833</td>\n",
       "      <td>C</td>\n",
       "      <td>1</td>\n",
       "      <td>0</td>\n",
       "      <td>1</td>\n",
       "      <td>0</td>\n",
       "      <td>0</td>\n",
       "    </tr>\n",
       "    <tr>\n",
       "      <th>2</th>\n",
       "      <td>3</td>\n",
       "      <td>1</td>\n",
       "      <td>3</td>\n",
       "      <td>Heikkinen, Miss. Laina</td>\n",
       "      <td>female</td>\n",
       "      <td>26.0</td>\n",
       "      <td>0</td>\n",
       "      <td>0</td>\n",
       "      <td>STON/O2. 3101282</td>\n",
       "      <td>7.9250</td>\n",
       "      <td>S</td>\n",
       "      <td>1</td>\n",
       "      <td>0</td>\n",
       "      <td>0</td>\n",
       "      <td>0</td>\n",
       "      <td>1</td>\n",
       "    </tr>\n",
       "    <tr>\n",
       "      <th>3</th>\n",
       "      <td>4</td>\n",
       "      <td>1</td>\n",
       "      <td>1</td>\n",
       "      <td>Futrelle, Mrs. Jacques Heath (Lily May Peel)</td>\n",
       "      <td>female</td>\n",
       "      <td>35.0</td>\n",
       "      <td>1</td>\n",
       "      <td>0</td>\n",
       "      <td>113803</td>\n",
       "      <td>53.1000</td>\n",
       "      <td>S</td>\n",
       "      <td>1</td>\n",
       "      <td>0</td>\n",
       "      <td>0</td>\n",
       "      <td>0</td>\n",
       "      <td>1</td>\n",
       "    </tr>\n",
       "    <tr>\n",
       "      <th>4</th>\n",
       "      <td>5</td>\n",
       "      <td>0</td>\n",
       "      <td>3</td>\n",
       "      <td>Allen, Mr. William Henry</td>\n",
       "      <td>male</td>\n",
       "      <td>35.0</td>\n",
       "      <td>0</td>\n",
       "      <td>0</td>\n",
       "      <td>373450</td>\n",
       "      <td>8.0500</td>\n",
       "      <td>S</td>\n",
       "      <td>0</td>\n",
       "      <td>1</td>\n",
       "      <td>0</td>\n",
       "      <td>0</td>\n",
       "      <td>1</td>\n",
       "    </tr>\n",
       "    <tr>\n",
       "      <th>...</th>\n",
       "      <td>...</td>\n",
       "      <td>...</td>\n",
       "      <td>...</td>\n",
       "      <td>...</td>\n",
       "      <td>...</td>\n",
       "      <td>...</td>\n",
       "      <td>...</td>\n",
       "      <td>...</td>\n",
       "      <td>...</td>\n",
       "      <td>...</td>\n",
       "      <td>...</td>\n",
       "      <td>...</td>\n",
       "      <td>...</td>\n",
       "      <td>...</td>\n",
       "      <td>...</td>\n",
       "      <td>...</td>\n",
       "    </tr>\n",
       "    <tr>\n",
       "      <th>886</th>\n",
       "      <td>887</td>\n",
       "      <td>0</td>\n",
       "      <td>2</td>\n",
       "      <td>Montvila, Rev. Juozas</td>\n",
       "      <td>male</td>\n",
       "      <td>27.0</td>\n",
       "      <td>0</td>\n",
       "      <td>0</td>\n",
       "      <td>211536</td>\n",
       "      <td>13.0000</td>\n",
       "      <td>S</td>\n",
       "      <td>0</td>\n",
       "      <td>1</td>\n",
       "      <td>0</td>\n",
       "      <td>0</td>\n",
       "      <td>1</td>\n",
       "    </tr>\n",
       "    <tr>\n",
       "      <th>887</th>\n",
       "      <td>888</td>\n",
       "      <td>1</td>\n",
       "      <td>1</td>\n",
       "      <td>Graham, Miss. Margaret Edith</td>\n",
       "      <td>female</td>\n",
       "      <td>19.0</td>\n",
       "      <td>0</td>\n",
       "      <td>0</td>\n",
       "      <td>112053</td>\n",
       "      <td>30.0000</td>\n",
       "      <td>S</td>\n",
       "      <td>1</td>\n",
       "      <td>0</td>\n",
       "      <td>0</td>\n",
       "      <td>0</td>\n",
       "      <td>1</td>\n",
       "    </tr>\n",
       "    <tr>\n",
       "      <th>888</th>\n",
       "      <td>889</td>\n",
       "      <td>0</td>\n",
       "      <td>3</td>\n",
       "      <td>Johnston, Miss. Catherine Helen \"Carrie\"</td>\n",
       "      <td>female</td>\n",
       "      <td>NaN</td>\n",
       "      <td>1</td>\n",
       "      <td>2</td>\n",
       "      <td>W./C. 6607</td>\n",
       "      <td>23.4500</td>\n",
       "      <td>S</td>\n",
       "      <td>1</td>\n",
       "      <td>0</td>\n",
       "      <td>0</td>\n",
       "      <td>0</td>\n",
       "      <td>1</td>\n",
       "    </tr>\n",
       "    <tr>\n",
       "      <th>889</th>\n",
       "      <td>890</td>\n",
       "      <td>1</td>\n",
       "      <td>1</td>\n",
       "      <td>Behr, Mr. Karl Howell</td>\n",
       "      <td>male</td>\n",
       "      <td>26.0</td>\n",
       "      <td>0</td>\n",
       "      <td>0</td>\n",
       "      <td>111369</td>\n",
       "      <td>30.0000</td>\n",
       "      <td>C</td>\n",
       "      <td>0</td>\n",
       "      <td>1</td>\n",
       "      <td>1</td>\n",
       "      <td>0</td>\n",
       "      <td>0</td>\n",
       "    </tr>\n",
       "    <tr>\n",
       "      <th>890</th>\n",
       "      <td>891</td>\n",
       "      <td>0</td>\n",
       "      <td>3</td>\n",
       "      <td>Dooley, Mr. Patrick</td>\n",
       "      <td>male</td>\n",
       "      <td>32.0</td>\n",
       "      <td>0</td>\n",
       "      <td>0</td>\n",
       "      <td>370376</td>\n",
       "      <td>7.7500</td>\n",
       "      <td>Q</td>\n",
       "      <td>0</td>\n",
       "      <td>1</td>\n",
       "      <td>0</td>\n",
       "      <td>1</td>\n",
       "      <td>0</td>\n",
       "    </tr>\n",
       "  </tbody>\n",
       "</table>\n",
       "<p>891 rows × 16 columns</p>\n",
       "</div>"
      ],
      "text/plain": [
       "     PassengerId  Survived  Pclass  \\\n",
       "0              1         0       3   \n",
       "1              2         1       1   \n",
       "2              3         1       3   \n",
       "3              4         1       1   \n",
       "4              5         0       3   \n",
       "..           ...       ...     ...   \n",
       "886          887         0       2   \n",
       "887          888         1       1   \n",
       "888          889         0       3   \n",
       "889          890         1       1   \n",
       "890          891         0       3   \n",
       "\n",
       "                                                  Name     Sex   Age  SibSp  \\\n",
       "0                              Braund, Mr. Owen Harris    male  22.0      1   \n",
       "1    Cumings, Mrs. John Bradley (Florence Briggs Th...  female  38.0      1   \n",
       "2                               Heikkinen, Miss. Laina  female  26.0      0   \n",
       "3         Futrelle, Mrs. Jacques Heath (Lily May Peel)  female  35.0      1   \n",
       "4                             Allen, Mr. William Henry    male  35.0      0   \n",
       "..                                                 ...     ...   ...    ...   \n",
       "886                              Montvila, Rev. Juozas    male  27.0      0   \n",
       "887                       Graham, Miss. Margaret Edith  female  19.0      0   \n",
       "888           Johnston, Miss. Catherine Helen \"Carrie\"  female   NaN      1   \n",
       "889                              Behr, Mr. Karl Howell    male  26.0      0   \n",
       "890                                Dooley, Mr. Patrick    male  32.0      0   \n",
       "\n",
       "     Parch            Ticket     Fare Embarked  Sex_female  Sex_male  \\\n",
       "0        0         A/5 21171   7.2500        S           0         1   \n",
       "1        0          PC 17599  71.2833        C           1         0   \n",
       "2        0  STON/O2. 3101282   7.9250        S           1         0   \n",
       "3        0            113803  53.1000        S           1         0   \n",
       "4        0            373450   8.0500        S           0         1   \n",
       "..     ...               ...      ...      ...         ...       ...   \n",
       "886      0            211536  13.0000        S           0         1   \n",
       "887      0            112053  30.0000        S           1         0   \n",
       "888      2        W./C. 6607  23.4500        S           1         0   \n",
       "889      0            111369  30.0000        C           0         1   \n",
       "890      0            370376   7.7500        Q           0         1   \n",
       "\n",
       "     Embarked_C  Embarked_Q  Embarked_S  \n",
       "0             0           0           1  \n",
       "1             1           0           0  \n",
       "2             0           0           1  \n",
       "3             0           0           1  \n",
       "4             0           0           1  \n",
       "..          ...         ...         ...  \n",
       "886           0           0           1  \n",
       "887           0           0           1  \n",
       "888           0           0           1  \n",
       "889           1           0           0  \n",
       "890           0           1           0  \n",
       "\n",
       "[891 rows x 16 columns]"
      ]
     },
     "execution_count": 17,
     "metadata": {},
     "output_type": "execute_result"
    }
   ],
   "source": [
    "data_train"
   ]
  },
  {
   "cell_type": "code",
   "execution_count": 18,
   "id": "f18e6cf2",
   "metadata": {
    "_cell_guid": "1de3702f-ee6d-41c4-9fea-79cb8a3f73a7",
    "_uuid": "401e34a9-b09e-4d60-a8e3-878c5eb952f5",
    "collapsed": false,
    "execution": {
     "iopub.execute_input": "2022-07-30T09:18:00.062526Z",
     "iopub.status.busy": "2022-07-30T09:18:00.062154Z",
     "iopub.status.idle": "2022-07-30T09:18:00.072060Z",
     "shell.execute_reply": "2022-07-30T09:18:00.070892Z"
    },
    "jupyter": {
     "outputs_hidden": false
    },
    "papermill": {
     "duration": 0.029944,
     "end_time": "2022-07-30T09:18:00.074334",
     "exception": false,
     "start_time": "2022-07-30T09:18:00.044390",
     "status": "completed"
    },
    "tags": []
   },
   "outputs": [],
   "source": [
    "X_train = data_train[['Pclass','Sex_male','Age','SibSp','Parch','Fare','Embarked_C', 'Embarked_Q', 'Embarked_S']]\n",
    "y_train = data_train['Survived']\n",
    "X_test = data_test[['Pclass','Sex_male','Age','SibSp','Parch','Fare','Embarked_C', 'Embarked_Q', 'Embarked_S']]"
   ]
  },
  {
   "cell_type": "code",
   "execution_count": 19,
   "id": "e56060ee",
   "metadata": {
    "_cell_guid": "5d8846d9-ebbc-48a7-b0d6-4db3c8b45df0",
    "_uuid": "b9548739-da72-46e3-b8e4-517900665a00",
    "collapsed": false,
    "execution": {
     "iopub.execute_input": "2022-07-30T09:18:00.108861Z",
     "iopub.status.busy": "2022-07-30T09:18:00.108450Z",
     "iopub.status.idle": "2022-07-30T09:18:00.125166Z",
     "shell.execute_reply": "2022-07-30T09:18:00.124147Z"
    },
    "jupyter": {
     "outputs_hidden": false
    },
    "papermill": {
     "duration": 0.037045,
     "end_time": "2022-07-30T09:18:00.127703",
     "exception": false,
     "start_time": "2022-07-30T09:18:00.090658",
     "status": "completed"
    },
    "tags": []
   },
   "outputs": [
    {
     "data": {
      "text/plain": [
       "array([[ 3.,  1., 22., ...,  0.,  0.,  1.],\n",
       "       [ 1.,  0., 38., ...,  1.,  0.,  0.],\n",
       "       [ 3.,  0., 26., ...,  0.,  0.,  1.],\n",
       "       ...,\n",
       "       [ 3.,  0., 28., ...,  0.,  0.,  1.],\n",
       "       [ 1.,  1., 26., ...,  1.,  0.,  0.],\n",
       "       [ 3.,  1., 32., ...,  0.,  1.,  0.]])"
      ]
     },
     "execution_count": 19,
     "metadata": {},
     "output_type": "execute_result"
    }
   ],
   "source": [
    "imputer = SimpleImputer(missing_values=np.nan, strategy='median')\n",
    "\n",
    "# Train on the training features\n",
    "imputer.fit(X_train)\n",
    "\n",
    "# Transform both training data and testing data\n",
    "X_train = imputer.transform(X_train)\n",
    "X_test = imputer.transform(X_test)\n",
    "\n",
    "X_train"
   ]
  },
  {
   "cell_type": "code",
   "execution_count": 20,
   "id": "23a59d33",
   "metadata": {
    "_cell_guid": "aaf76a7e-022c-4149-bc03-60574f6faba9",
    "_uuid": "5cbcc3d9-b2f3-4457-be25-b531cc88a85d",
    "collapsed": false,
    "execution": {
     "iopub.execute_input": "2022-07-30T09:18:00.162669Z",
     "iopub.status.busy": "2022-07-30T09:18:00.162291Z",
     "iopub.status.idle": "2022-07-30T09:18:00.169015Z",
     "shell.execute_reply": "2022-07-30T09:18:00.167875Z"
    },
    "jupyter": {
     "outputs_hidden": false
    },
    "papermill": {
     "duration": 0.027245,
     "end_time": "2022-07-30T09:18:00.171581",
     "exception": false,
     "start_time": "2022-07-30T09:18:00.144336",
     "status": "completed"
    },
    "tags": []
   },
   "outputs": [],
   "source": [
    "scaler = MinMaxScaler(feature_range=(0, 1))\n",
    "\n",
    "# Fit on the training data\n",
    "scaler.fit(X_train)\n",
    "\n",
    "# Transform both the training and testing data\n",
    "X_train = scaler.transform(X_train)\n",
    "X_test = scaler.transform(X_test)"
   ]
  },
  {
   "cell_type": "code",
   "execution_count": 21,
   "id": "9e57e59c",
   "metadata": {
    "_cell_guid": "8d143fd0-f86d-445f-9756-a23749f60fd2",
    "_uuid": "f0f3e815-9232-4193-a99a-d8d8fe1d70c8",
    "collapsed": false,
    "execution": {
     "iopub.execute_input": "2022-07-30T09:18:00.206918Z",
     "iopub.status.busy": "2022-07-30T09:18:00.206558Z",
     "iopub.status.idle": "2022-07-30T09:18:00.216949Z",
     "shell.execute_reply": "2022-07-30T09:18:00.215853Z"
    },
    "jupyter": {
     "outputs_hidden": false
    },
    "papermill": {
     "duration": 0.030929,
     "end_time": "2022-07-30T09:18:00.219385",
     "exception": false,
     "start_time": "2022-07-30T09:18:00.188456",
     "status": "completed"
    },
    "tags": []
   },
   "outputs": [
    {
     "data": {
      "text/plain": [
       "array([0, 1, 1, 1, 0, 0, 0, 0, 1, 1, 1, 1, 0, 0, 0, 1, 0, 1, 0, 1, 0, 1,\n",
       "       1, 1, 0, 1, 0, 0, 1, 0, 0, 1, 1, 0, 0, 0, 1, 0, 0, 1, 0, 0, 0, 1,\n",
       "       1, 0, 0, 1, 0, 0, 0, 0, 1, 1, 0, 1, 1, 0, 1, 0, 0, 1, 0, 0, 0, 1,\n",
       "       1, 0, 1, 0, 0, 0, 0, 0, 1, 0, 0, 0, 1, 1, 0, 1, 1, 0, 1, 1, 0, 0,\n",
       "       1, 0, 0, 0, 0, 0, 0, 0, 0, 1, 1, 0, 0, 0, 0, 0, 0, 0, 1, 1, 0, 1,\n",
       "       0, 0, 0, 0, 0, 0, 0, 0, 0, 0, 0, 0, 0, 1, 0, 1, 0, 1, 1, 0, 0, 0,\n",
       "       0, 1, 0, 0, 1, 0, 0, 0, 0, 1, 1, 0, 0, 0, 1, 0, 0, 0, 0, 1, 0, 0,\n",
       "       0, 0, 1, 0, 0, 0, 0, 1, 0, 0, 0, 1, 1, 0, 0, 0, 0, 0, 1, 0, 0, 0,\n",
       "       0, 0, 0, 0, 0, 0, 0, 1, 1, 0, 1, 1, 0, 0, 1, 0, 1, 1, 1, 1, 0, 0,\n",
       "       1, 0, 0, 0, 0, 0, 1, 0, 0, 1, 1, 1, 0, 1, 0, 0, 0, 1, 1, 0, 1, 0,\n",
       "       1, 0, 0, 0, 1, 0, 1, 0, 0, 0, 1, 0, 0, 1, 0, 0, 0, 1, 0, 0, 0, 1,\n",
       "       0, 0, 0, 0, 0, 1, 1, 0, 0, 0, 0, 0, 0, 1, 1, 1, 1, 1, 0, 1, 0, 0,\n",
       "       0, 0, 0, 1, 1, 1, 0, 1, 1, 0, 1, 1, 0, 0, 0, 1, 0, 0, 0, 1, 0, 0,\n",
       "       1, 0, 1, 1, 1, 1, 0, 0, 0, 0, 0, 0, 1, 1, 1, 1, 0, 1, 0, 1, 1, 1,\n",
       "       0, 1, 1, 1, 0, 0, 0, 1, 1, 0, 1, 1, 0, 0, 1, 1, 0, 1, 0, 1, 1, 1,\n",
       "       1, 0, 0, 0, 1, 0, 0, 1, 1, 0, 1, 1, 0, 0, 0, 1, 1, 1, 1, 0, 0, 0,\n",
       "       0, 0, 0, 0, 1, 0, 1, 1, 0, 0, 0, 0, 0, 0, 1, 1, 1, 1, 1, 0, 0, 0,\n",
       "       0, 1, 1, 0, 0, 0, 1, 1, 0, 1, 0, 0, 0, 1, 0, 1, 1, 1, 0, 1, 1, 0,\n",
       "       0, 0, 0, 1, 1, 0, 0, 0, 0, 0, 0, 1, 0, 0, 0, 0, 1, 0, 1, 0, 1, 1,\n",
       "       0, 0, 0, 0, 0, 0, 0, 0, 1, 1, 0, 1, 1, 1, 1, 0, 0, 1, 0, 1, 0, 0,\n",
       "       1, 0, 0, 1, 1, 1, 1, 1, 1, 1, 0, 0, 0, 1, 0, 1, 0, 1, 1, 0, 1, 0,\n",
       "       0, 0, 0, 0, 0, 0, 0, 1, 0, 0, 1, 1, 0, 0, 0, 0, 0, 1, 0, 0, 0, 1,\n",
       "       1, 0, 1, 0, 0, 1, 0, 0, 0, 0, 0, 0, 1, 0, 0, 0, 0, 0, 0, 0, 1, 0,\n",
       "       1, 1, 0, 1, 1, 0, 1, 1, 0, 0, 1, 0, 1, 0, 1, 0, 0, 1, 0, 0, 1, 0,\n",
       "       0, 0, 1, 0, 0, 1, 0, 1, 0, 1, 0, 1, 1, 0, 0, 1, 0, 0, 1, 1, 0, 1,\n",
       "       1, 0, 0, 1, 1, 0, 1, 0, 1, 1, 0, 0, 0, 0, 0, 0, 0, 0, 0, 1, 1, 1,\n",
       "       1, 1, 0, 0, 1, 1, 0, 1, 1, 1, 0, 0, 0, 1, 0, 1, 0, 0, 0, 1, 0, 0,\n",
       "       0, 0, 1, 0, 0, 1, 1, 0, 0, 0, 1, 0, 0, 1, 1, 1, 0, 0, 1, 0, 0, 1,\n",
       "       0, 0, 1, 0, 0, 1, 1, 0, 0, 0, 0, 1, 0, 0, 1, 0, 1, 0, 0, 1, 0, 0,\n",
       "       0, 0, 0, 1, 0, 1, 1, 1, 0, 1, 0, 1, 0, 1, 0, 1, 0, 0, 0, 0, 0, 0,\n",
       "       1, 0, 0, 0, 1, 0, 0, 0, 0, 1, 1, 0, 0, 1, 0, 0, 0, 1, 0, 1, 0, 1,\n",
       "       0, 0, 0, 0, 0, 0, 0, 1, 1, 1, 1, 0, 0, 0, 0, 1, 0, 0, 1, 1, 0, 0,\n",
       "       0, 0, 1, 1, 1, 1, 1, 0, 1, 0, 0, 0, 1, 1, 0, 0, 1, 0, 0, 0, 1, 0,\n",
       "       1, 1, 0, 0, 1, 0, 0, 0, 0, 0, 0, 1, 0, 0, 1, 0, 1, 0, 1, 0, 0, 1,\n",
       "       0, 0, 1, 1, 0, 0, 1, 1, 0, 0, 0, 1, 0, 0, 1, 1, 0, 1, 0, 0, 0, 0,\n",
       "       0, 0, 0, 0, 1, 0, 0, 1, 0, 1, 1, 1, 0, 0, 0, 0, 1, 0, 1, 0, 0, 0,\n",
       "       0, 0, 0, 0, 1, 1, 0, 0, 0, 1, 1, 1, 1, 0, 0, 0, 0, 1, 0, 0, 0, 0,\n",
       "       0, 0, 0, 0, 0, 0, 1, 1, 0, 1, 0, 0, 0, 1, 1, 1, 1, 1, 0, 0, 0, 1,\n",
       "       0, 0, 1, 1, 0, 0, 1, 0, 0, 0, 0, 0, 0, 1, 0, 0, 0, 1, 0, 1, 1, 1,\n",
       "       1, 0, 0, 0, 1, 0, 0, 1, 1, 0, 0, 1, 0, 1, 0, 0, 1, 1, 0, 0, 0, 1,\n",
       "       1, 0, 0, 0, 0, 0, 0, 1, 0, 1, 0])"
      ]
     },
     "execution_count": 21,
     "metadata": {},
     "output_type": "execute_result"
    }
   ],
   "source": [
    "# Convert y to one-dimensional array (vector)\n",
    "y_train = np.array(y_train).reshape((-1, ))\n",
    "#y_test = np.array(y_test).reshape((-1, ))\n",
    "\n",
    "y_train"
   ]
  },
  {
   "cell_type": "code",
   "execution_count": 22,
   "id": "b2828848",
   "metadata": {
    "_cell_guid": "6e119880-0965-4fb4-b0c3-3b903dce1e04",
    "_uuid": "4017d739-48cf-4498-8153-9955bf0987d4",
    "collapsed": false,
    "execution": {
     "iopub.execute_input": "2022-07-30T09:18:00.254238Z",
     "iopub.status.busy": "2022-07-30T09:18:00.253836Z",
     "iopub.status.idle": "2022-07-30T09:18:00.260408Z",
     "shell.execute_reply": "2022-07-30T09:18:00.259456Z"
    },
    "jupyter": {
     "outputs_hidden": false
    },
    "papermill": {
     "duration": 0.026698,
     "end_time": "2022-07-30T09:18:00.262673",
     "exception": false,
     "start_time": "2022-07-30T09:18:00.235975",
     "status": "completed"
    },
    "tags": []
   },
   "outputs": [],
   "source": [
    "# Function to calculate accuracy\n",
    "def accuracy(y_true, y_pred):\n",
    "    return np.sum((1-np.abs(y_true - y_pred)))/np.shape(y_true)[0]\n",
    "\n",
    "# Takes in a model, trains the model, and evaluates the model on the test set\n",
    "def fit_and_evaluate(model):\n",
    "    \n",
    "    # Train the model\n",
    "    model.fit(X_train, y_train)\n",
    "    \n",
    "    # Make predictions and evalute\n",
    "    model_pred = model.predict(X_train)\n",
    "    #model_perf = accuracy(y_test, model_pred)\n",
    "    \n",
    "    # Return the performance metric\n",
    "    # return model_perf"
   ]
  },
  {
   "cell_type": "code",
   "execution_count": 23,
   "id": "61690d91",
   "metadata": {
    "_cell_guid": "8e62ba36-bb80-4b72-99c6-802810536ef4",
    "_uuid": "7fdaa90d-1641-4939-ac8a-7dd716e4be9f",
    "collapsed": false,
    "execution": {
     "iopub.execute_input": "2022-07-30T09:18:00.298166Z",
     "iopub.status.busy": "2022-07-30T09:18:00.297161Z",
     "iopub.status.idle": "2022-07-30T09:18:00.302406Z",
     "shell.execute_reply": "2022-07-30T09:18:00.301536Z"
    },
    "jupyter": {
     "outputs_hidden": false
    },
    "papermill": {
     "duration": 0.025466,
     "end_time": "2022-07-30T09:18:00.304696",
     "exception": false,
     "start_time": "2022-07-30T09:18:00.279230",
     "status": "completed"
    },
    "tags": []
   },
   "outputs": [],
   "source": [
    "X_test = sm.add_constant(X_test)\n",
    "X_train = sm.add_constant(X_train)"
   ]
  },
  {
   "cell_type": "code",
   "execution_count": 24,
   "id": "4f8dc726",
   "metadata": {
    "_cell_guid": "69e12cfa-e143-4cd2-afcd-692031d40861",
    "_uuid": "ecc93d09-e955-46aa-bb0d-d07f8c01feaa",
    "collapsed": false,
    "execution": {
     "iopub.execute_input": "2022-07-30T09:18:00.341312Z",
     "iopub.status.busy": "2022-07-30T09:18:00.340298Z",
     "iopub.status.idle": "2022-07-30T09:18:00.646525Z",
     "shell.execute_reply": "2022-07-30T09:18:00.645136Z"
    },
    "jupyter": {
     "outputs_hidden": false
    },
    "papermill": {
     "duration": 0.327398,
     "end_time": "2022-07-30T09:18:00.649402",
     "exception": false,
     "start_time": "2022-07-30T09:18:00.322004",
     "status": "completed"
    },
    "tags": []
   },
   "outputs": [
    {
     "name": "stdout",
     "output_type": "stream",
     "text": [
      "SVM Performance on the training set: accuracy = 0.7782\n"
     ]
    }
   ],
   "source": [
    "svm = SVR(C = 1000, gamma = 0.1)\n",
    "\n",
    "svm.fit(X_train, y_train)\n",
    "pred = svm.predict(X_train)\n",
    "\n",
    "\n",
    "print('SVM Performance on the training set: accuracy = %0.4f' % accuracy(pred, y_train))"
   ]
  },
  {
   "cell_type": "code",
   "execution_count": 25,
   "id": "6b8e25c1",
   "metadata": {
    "_cell_guid": "318fe5e5-33f7-4685-8604-b50aefb202f2",
    "_uuid": "5cb6f876-70b8-497a-8d4f-f4434fc1a5f1",
    "collapsed": false,
    "execution": {
     "iopub.execute_input": "2022-07-30T09:18:00.685155Z",
     "iopub.status.busy": "2022-07-30T09:18:00.684722Z",
     "iopub.status.idle": "2022-07-30T09:18:00.703630Z",
     "shell.execute_reply": "2022-07-30T09:18:00.702097Z"
    },
    "jupyter": {
     "outputs_hidden": false
    },
    "papermill": {
     "duration": 0.041207,
     "end_time": "2022-07-30T09:18:00.707559",
     "exception": false,
     "start_time": "2022-07-30T09:18:00.666352",
     "status": "completed"
    },
    "tags": []
   },
   "outputs": [
    {
     "name": "stdout",
     "output_type": "stream",
     "text": [
      "K-Nearest Neighbors Regression Performance on the training set: accuracy = 0.7689\n"
     ]
    }
   ],
   "source": [
    "knn = KNeighborsRegressor(n_neighbors=10)\n",
    "knn.fit(X_train, y_train)\n",
    "pred = knn.predict(X_train)\n",
    "\n",
    "\n",
    "print('K-Nearest Neighbors Regression Performance on the training set: accuracy = %0.4f' % accuracy(pred, y_train))"
   ]
  },
  {
   "cell_type": "code",
   "execution_count": 26,
   "id": "11e77193",
   "metadata": {
    "_cell_guid": "08342c3b-ecf9-4c37-82ac-fc0b61b3988d",
    "_uuid": "d43fa2b9-327b-4404-855a-0c9a59608272",
    "collapsed": false,
    "execution": {
     "iopub.execute_input": "2022-07-30T09:18:00.745839Z",
     "iopub.status.busy": "2022-07-30T09:18:00.745076Z",
     "iopub.status.idle": "2022-07-30T09:18:01.006883Z",
     "shell.execute_reply": "2022-07-30T09:18:01.005759Z"
    },
    "jupyter": {
     "outputs_hidden": false
    },
    "papermill": {
     "duration": 0.283566,
     "end_time": "2022-07-30T09:18:01.009279",
     "exception": false,
     "start_time": "2022-07-30T09:18:00.725713",
     "status": "completed"
    },
    "tags": []
   },
   "outputs": [
    {
     "name": "stdout",
     "output_type": "stream",
     "text": [
      "Random Forest Performance on the training set: accuracy = 0.9787\n"
     ]
    }
   ],
   "source": [
    "random_forest = RandomForestClassifier(random_state=60)\n",
    "random_forest.fit(X_train, y_train)\n",
    "pred = random_forest.predict(X_train)\n",
    "\n",
    "print('Random Forest Performance on the training set: accuracy = %0.4f' % accuracy(pred, y_train))"
   ]
  },
  {
   "cell_type": "code",
   "execution_count": 27,
   "id": "1ef5b846",
   "metadata": {
    "_cell_guid": "ec07384f-17f7-41d3-9290-f94687d5a2bc",
    "_uuid": "9da18d80-d821-439d-a4c7-18e2b03c293d",
    "collapsed": false,
    "execution": {
     "iopub.execute_input": "2022-07-30T09:18:01.048244Z",
     "iopub.status.busy": "2022-07-30T09:18:01.047555Z",
     "iopub.status.idle": "2022-07-30T09:18:01.067951Z",
     "shell.execute_reply": "2022-07-30T09:18:01.066874Z"
    },
    "jupyter": {
     "outputs_hidden": false
    },
    "papermill": {
     "duration": 0.043601,
     "end_time": "2022-07-30T09:18:01.070569",
     "exception": false,
     "start_time": "2022-07-30T09:18:01.026968",
     "status": "completed"
    },
    "tags": []
   },
   "outputs": [
    {
     "name": "stdout",
     "output_type": "stream",
     "text": [
      "Logistic Regression Performance on the training set: accuracy = 0.8002\n"
     ]
    }
   ],
   "source": [
    "lr = LogisticRegression()\n",
    "\n",
    "lr.fit(X_train, y_train)\n",
    "pred = lr.predict(X_train)\n",
    "\n",
    "\n",
    "print('Logistic Regression Performance on the training set: accuracy = %0.4f' % accuracy(pred, y_train))"
   ]
  },
  {
   "cell_type": "code",
   "execution_count": 28,
   "id": "284a69a1",
   "metadata": {
    "_cell_guid": "c7b9b422-2f77-41d6-aff5-1cd29f79f837",
    "_uuid": "df3d8104-3e78-4ab1-a245-96370196341e",
    "collapsed": false,
    "execution": {
     "iopub.execute_input": "2022-07-30T09:18:01.106708Z",
     "iopub.status.busy": "2022-07-30T09:18:01.105673Z",
     "iopub.status.idle": "2022-07-30T09:18:01.147544Z",
     "shell.execute_reply": "2022-07-30T09:18:01.146668Z"
    },
    "jupyter": {
     "outputs_hidden": false
    },
    "papermill": {
     "duration": 0.061961,
     "end_time": "2022-07-30T09:18:01.149643",
     "exception": false,
     "start_time": "2022-07-30T09:18:01.087682",
     "status": "completed"
    },
    "tags": []
   },
   "outputs": [
    {
     "data": {
      "text/html": [
       "<div>\n",
       "<style scoped>\n",
       "    .dataframe tbody tr th:only-of-type {\n",
       "        vertical-align: middle;\n",
       "    }\n",
       "\n",
       "    .dataframe tbody tr th {\n",
       "        vertical-align: top;\n",
       "    }\n",
       "\n",
       "    .dataframe thead th {\n",
       "        text-align: right;\n",
       "    }\n",
       "</style>\n",
       "<table border=\"1\" class=\"dataframe\">\n",
       "  <thead>\n",
       "    <tr style=\"text-align: right;\">\n",
       "      <th></th>\n",
       "      <th>const</th>\n",
       "      <th>Pclass</th>\n",
       "      <th>Sex_male</th>\n",
       "      <th>Age</th>\n",
       "      <th>SibSp</th>\n",
       "      <th>Parch</th>\n",
       "      <th>Fare</th>\n",
       "      <th>Embarked_C</th>\n",
       "      <th>Embarked_Q</th>\n",
       "      <th>Embarked_S</th>\n",
       "    </tr>\n",
       "  </thead>\n",
       "  <tbody>\n",
       "    <tr>\n",
       "      <th>count</th>\n",
       "      <td>891.0</td>\n",
       "      <td>891.000000</td>\n",
       "      <td>891.000000</td>\n",
       "      <td>891.000000</td>\n",
       "      <td>891.000000</td>\n",
       "      <td>891.000000</td>\n",
       "      <td>891.000000</td>\n",
       "      <td>891.000000</td>\n",
       "      <td>891.000000</td>\n",
       "      <td>891.000000</td>\n",
       "    </tr>\n",
       "    <tr>\n",
       "      <th>mean</th>\n",
       "      <td>1.0</td>\n",
       "      <td>0.654321</td>\n",
       "      <td>0.647587</td>\n",
       "      <td>0.363679</td>\n",
       "      <td>0.065376</td>\n",
       "      <td>0.063599</td>\n",
       "      <td>0.062858</td>\n",
       "      <td>0.188552</td>\n",
       "      <td>0.086420</td>\n",
       "      <td>0.722783</td>\n",
       "    </tr>\n",
       "    <tr>\n",
       "      <th>std</th>\n",
       "      <td>0.0</td>\n",
       "      <td>0.418036</td>\n",
       "      <td>0.477990</td>\n",
       "      <td>0.163605</td>\n",
       "      <td>0.137843</td>\n",
       "      <td>0.134343</td>\n",
       "      <td>0.096995</td>\n",
       "      <td>0.391372</td>\n",
       "      <td>0.281141</td>\n",
       "      <td>0.447876</td>\n",
       "    </tr>\n",
       "    <tr>\n",
       "      <th>min</th>\n",
       "      <td>1.0</td>\n",
       "      <td>0.000000</td>\n",
       "      <td>0.000000</td>\n",
       "      <td>0.000000</td>\n",
       "      <td>0.000000</td>\n",
       "      <td>0.000000</td>\n",
       "      <td>0.000000</td>\n",
       "      <td>0.000000</td>\n",
       "      <td>0.000000</td>\n",
       "      <td>0.000000</td>\n",
       "    </tr>\n",
       "    <tr>\n",
       "      <th>25%</th>\n",
       "      <td>1.0</td>\n",
       "      <td>0.500000</td>\n",
       "      <td>0.000000</td>\n",
       "      <td>0.271174</td>\n",
       "      <td>0.000000</td>\n",
       "      <td>0.000000</td>\n",
       "      <td>0.015440</td>\n",
       "      <td>0.000000</td>\n",
       "      <td>0.000000</td>\n",
       "      <td>0.000000</td>\n",
       "    </tr>\n",
       "    <tr>\n",
       "      <th>50%</th>\n",
       "      <td>1.0</td>\n",
       "      <td>1.000000</td>\n",
       "      <td>1.000000</td>\n",
       "      <td>0.346569</td>\n",
       "      <td>0.000000</td>\n",
       "      <td>0.000000</td>\n",
       "      <td>0.028213</td>\n",
       "      <td>0.000000</td>\n",
       "      <td>0.000000</td>\n",
       "      <td>1.000000</td>\n",
       "    </tr>\n",
       "    <tr>\n",
       "      <th>75%</th>\n",
       "      <td>1.0</td>\n",
       "      <td>1.000000</td>\n",
       "      <td>1.000000</td>\n",
       "      <td>0.434531</td>\n",
       "      <td>0.125000</td>\n",
       "      <td>0.000000</td>\n",
       "      <td>0.060508</td>\n",
       "      <td>0.000000</td>\n",
       "      <td>0.000000</td>\n",
       "      <td>1.000000</td>\n",
       "    </tr>\n",
       "    <tr>\n",
       "      <th>max</th>\n",
       "      <td>1.0</td>\n",
       "      <td>1.000000</td>\n",
       "      <td>1.000000</td>\n",
       "      <td>1.000000</td>\n",
       "      <td>1.000000</td>\n",
       "      <td>1.000000</td>\n",
       "      <td>1.000000</td>\n",
       "      <td>1.000000</td>\n",
       "      <td>1.000000</td>\n",
       "      <td>1.000000</td>\n",
       "    </tr>\n",
       "  </tbody>\n",
       "</table>\n",
       "</div>"
      ],
      "text/plain": [
       "       const      Pclass    Sex_male         Age       SibSp       Parch  \\\n",
       "count  891.0  891.000000  891.000000  891.000000  891.000000  891.000000   \n",
       "mean     1.0    0.654321    0.647587    0.363679    0.065376    0.063599   \n",
       "std      0.0    0.418036    0.477990    0.163605    0.137843    0.134343   \n",
       "min      1.0    0.000000    0.000000    0.000000    0.000000    0.000000   \n",
       "25%      1.0    0.500000    0.000000    0.271174    0.000000    0.000000   \n",
       "50%      1.0    1.000000    1.000000    0.346569    0.000000    0.000000   \n",
       "75%      1.0    1.000000    1.000000    0.434531    0.125000    0.000000   \n",
       "max      1.0    1.000000    1.000000    1.000000    1.000000    1.000000   \n",
       "\n",
       "             Fare  Embarked_C  Embarked_Q  Embarked_S  \n",
       "count  891.000000  891.000000  891.000000  891.000000  \n",
       "mean     0.062858    0.188552    0.086420    0.722783  \n",
       "std      0.096995    0.391372    0.281141    0.447876  \n",
       "min      0.000000    0.000000    0.000000    0.000000  \n",
       "25%      0.015440    0.000000    0.000000    0.000000  \n",
       "50%      0.028213    0.000000    0.000000    1.000000  \n",
       "75%      0.060508    0.000000    0.000000    1.000000  \n",
       "max      1.000000    1.000000    1.000000    1.000000  "
      ]
     },
     "execution_count": 28,
     "metadata": {},
     "output_type": "execute_result"
    }
   ],
   "source": [
    "pd.DataFrame(X_train, columns = ['const','Pclass','Sex_male','Age','SibSp','Parch','Fare','Embarked_C', 'Embarked_Q', 'Embarked_S']).describe()"
   ]
  },
  {
   "cell_type": "code",
   "execution_count": 29,
   "id": "f31a48e5",
   "metadata": {
    "_cell_guid": "896c98ab-aa24-4909-9e18-dbcedee080f2",
    "_uuid": "e7bc54e8-6d88-4550-9b26-e0d0833cd994",
    "collapsed": false,
    "execution": {
     "iopub.execute_input": "2022-07-30T09:18:01.186284Z",
     "iopub.status.busy": "2022-07-30T09:18:01.185614Z",
     "iopub.status.idle": "2022-07-30T09:18:01.280771Z",
     "shell.execute_reply": "2022-07-30T09:18:01.278738Z"
    },
    "jupyter": {
     "outputs_hidden": false
    },
    "papermill": {
     "duration": 0.11744,
     "end_time": "2022-07-30T09:18:01.284330",
     "exception": false,
     "start_time": "2022-07-30T09:18:01.166890",
     "status": "completed"
    },
    "tags": []
   },
   "outputs": [
    {
     "name": "stdout",
     "output_type": "stream",
     "text": [
      "Gradient boosting Performance on the training set: accuracy = 0.7862\n"
     ]
    }
   ],
   "source": [
    "gradient_boosted = GradientBoostingRegressor(random_state=60)\n",
    "gradient_boosted.fit(X_train, y_train)\n",
    "pred = gradient_boosted.predict(X_train)\n",
    "\n",
    "print('Gradient boosting Performance on the training set: accuracy = %0.4f' % accuracy(pred, y_train))"
   ]
  },
  {
   "cell_type": "code",
   "execution_count": 30,
   "id": "cea445d3",
   "metadata": {
    "_cell_guid": "e37887a0-2ef2-49aa-8a6d-de579c3fe130",
    "_uuid": "80cc5275-6a7f-4c6a-8ed6-f18ca1f58fbb",
    "collapsed": false,
    "execution": {
     "iopub.execute_input": "2022-07-30T09:18:01.323712Z",
     "iopub.status.busy": "2022-07-30T09:18:01.321563Z",
     "iopub.status.idle": "2022-07-30T09:18:01.356799Z",
     "shell.execute_reply": "2022-07-30T09:18:01.355588Z"
    },
    "jupyter": {
     "outputs_hidden": false
    },
    "papermill": {
     "duration": 0.056493,
     "end_time": "2022-07-30T09:18:01.359303",
     "exception": false,
     "start_time": "2022-07-30T09:18:01.302810",
     "status": "completed"
    },
    "tags": []
   },
   "outputs": [
    {
     "data": {
      "text/html": [
       "<div>\n",
       "<style scoped>\n",
       "    .dataframe tbody tr th:only-of-type {\n",
       "        vertical-align: middle;\n",
       "    }\n",
       "\n",
       "    .dataframe tbody tr th {\n",
       "        vertical-align: top;\n",
       "    }\n",
       "\n",
       "    .dataframe thead th {\n",
       "        text-align: right;\n",
       "    }\n",
       "</style>\n",
       "<table border=\"1\" class=\"dataframe\">\n",
       "  <thead>\n",
       "    <tr style=\"text-align: right;\">\n",
       "      <th></th>\n",
       "      <th>PassengerId</th>\n",
       "      <th>Survived</th>\n",
       "    </tr>\n",
       "  </thead>\n",
       "  <tbody>\n",
       "    <tr>\n",
       "      <th>0</th>\n",
       "      <td>892</td>\n",
       "      <td>0</td>\n",
       "    </tr>\n",
       "    <tr>\n",
       "      <th>1</th>\n",
       "      <td>893</td>\n",
       "      <td>0</td>\n",
       "    </tr>\n",
       "    <tr>\n",
       "      <th>2</th>\n",
       "      <td>894</td>\n",
       "      <td>0</td>\n",
       "    </tr>\n",
       "    <tr>\n",
       "      <th>3</th>\n",
       "      <td>895</td>\n",
       "      <td>1</td>\n",
       "    </tr>\n",
       "    <tr>\n",
       "      <th>4</th>\n",
       "      <td>896</td>\n",
       "      <td>0</td>\n",
       "    </tr>\n",
       "    <tr>\n",
       "      <th>...</th>\n",
       "      <td>...</td>\n",
       "      <td>...</td>\n",
       "    </tr>\n",
       "    <tr>\n",
       "      <th>413</th>\n",
       "      <td>1305</td>\n",
       "      <td>0</td>\n",
       "    </tr>\n",
       "    <tr>\n",
       "      <th>414</th>\n",
       "      <td>1306</td>\n",
       "      <td>1</td>\n",
       "    </tr>\n",
       "    <tr>\n",
       "      <th>415</th>\n",
       "      <td>1307</td>\n",
       "      <td>0</td>\n",
       "    </tr>\n",
       "    <tr>\n",
       "      <th>416</th>\n",
       "      <td>1308</td>\n",
       "      <td>0</td>\n",
       "    </tr>\n",
       "    <tr>\n",
       "      <th>417</th>\n",
       "      <td>1309</td>\n",
       "      <td>1</td>\n",
       "    </tr>\n",
       "  </tbody>\n",
       "</table>\n",
       "<p>418 rows × 2 columns</p>\n",
       "</div>"
      ],
      "text/plain": [
       "     PassengerId  Survived\n",
       "0            892         0\n",
       "1            893         0\n",
       "2            894         0\n",
       "3            895         1\n",
       "4            896         0\n",
       "..           ...       ...\n",
       "413         1305         0\n",
       "414         1306         1\n",
       "415         1307         0\n",
       "416         1308         0\n",
       "417         1309         1\n",
       "\n",
       "[418 rows x 2 columns]"
      ]
     },
     "execution_count": 30,
     "metadata": {},
     "output_type": "execute_result"
    }
   ],
   "source": [
    "data_test['Survived'] = random_forest.predict(X_test)\n",
    "submission = data_test[['PassengerId','Survived']]\n",
    "submission"
   ]
  },
  {
   "cell_type": "code",
   "execution_count": 31,
   "id": "58898577",
   "metadata": {
    "_cell_guid": "67b6491b-7e5e-49de-aa9a-3b89d11d93b3",
    "_uuid": "b7131f0c-6737-4cbc-ac92-f3a02a0ae3de",
    "collapsed": false,
    "execution": {
     "iopub.execute_input": "2022-07-30T09:18:01.396823Z",
     "iopub.status.busy": "2022-07-30T09:18:01.395658Z",
     "iopub.status.idle": "2022-07-30T09:18:01.405079Z",
     "shell.execute_reply": "2022-07-30T09:18:01.404301Z"
    },
    "jupyter": {
     "outputs_hidden": false
    },
    "papermill": {
     "duration": 0.030398,
     "end_time": "2022-07-30T09:18:01.407239",
     "exception": false,
     "start_time": "2022-07-30T09:18:01.376841",
     "status": "completed"
    },
    "tags": []
   },
   "outputs": [],
   "source": [
    "submission.to_csv('submission.csv',header=True,columns = ['PassengerId','Survived'],index=False)"
   ]
  },
  {
   "cell_type": "code",
   "execution_count": 32,
   "id": "6f25a3d3",
   "metadata": {
    "_cell_guid": "dc601dde-1309-400a-905d-db9d5476b3b4",
    "_uuid": "ae844f8e-e973-4238-bf30-25e997a98558",
    "collapsed": false,
    "execution": {
     "iopub.execute_input": "2022-07-30T09:18:01.444312Z",
     "iopub.status.busy": "2022-07-30T09:18:01.443866Z",
     "iopub.status.idle": "2022-07-30T09:18:01.461150Z",
     "shell.execute_reply": "2022-07-30T09:18:01.460024Z"
    },
    "jupyter": {
     "outputs_hidden": false
    },
    "papermill": {
     "duration": 0.039271,
     "end_time": "2022-07-30T09:18:01.463947",
     "exception": false,
     "start_time": "2022-07-30T09:18:01.424676",
     "status": "completed"
    },
    "tags": []
   },
   "outputs": [
    {
     "data": {
      "text/html": [
       "<div>\n",
       "<style scoped>\n",
       "    .dataframe tbody tr th:only-of-type {\n",
       "        vertical-align: middle;\n",
       "    }\n",
       "\n",
       "    .dataframe tbody tr th {\n",
       "        vertical-align: top;\n",
       "    }\n",
       "\n",
       "    .dataframe thead th {\n",
       "        text-align: right;\n",
       "    }\n",
       "</style>\n",
       "<table border=\"1\" class=\"dataframe\">\n",
       "  <thead>\n",
       "    <tr style=\"text-align: right;\">\n",
       "      <th></th>\n",
       "      <th>const</th>\n",
       "      <th>Pclass</th>\n",
       "      <th>Sex_male</th>\n",
       "      <th>Age</th>\n",
       "      <th>SibSp</th>\n",
       "      <th>Parch</th>\n",
       "      <th>Fare</th>\n",
       "      <th>Embarked_C</th>\n",
       "      <th>Embarked_Q</th>\n",
       "      <th>Embarked_S</th>\n",
       "    </tr>\n",
       "  </thead>\n",
       "  <tbody>\n",
       "    <tr>\n",
       "      <th>0</th>\n",
       "      <td>0.002066</td>\n",
       "      <td>-1.989203</td>\n",
       "      <td>-2.553975</td>\n",
       "      <td>-2.087473</td>\n",
       "      <td>-1.426298</td>\n",
       "      <td>-0.404733</td>\n",
       "      <td>0.469168</td>\n",
       "      <td>0.119994</td>\n",
       "      <td>0.0085</td>\n",
       "      <td>-0.343107</td>\n",
       "    </tr>\n",
       "  </tbody>\n",
       "</table>\n",
       "</div>"
      ],
      "text/plain": [
       "      const    Pclass  Sex_male       Age     SibSp     Parch      Fare  \\\n",
       "0  0.002066 -1.989203 -2.553975 -2.087473 -1.426298 -0.404733  0.469168   \n",
       "\n",
       "   Embarked_C  Embarked_Q  Embarked_S  \n",
       "0    0.119994      0.0085   -0.343107  "
      ]
     },
     "execution_count": 32,
     "metadata": {},
     "output_type": "execute_result"
    }
   ],
   "source": [
    "importance = lr.coef_[0]\n",
    "#importance is a list so you can plot it. \n",
    "feat_importances = pd.DataFrame(importance.reshape(1,-1), columns = ['const','Pclass','Sex_male','Age','SibSp','Parch','Fare','Embarked_C', 'Embarked_Q', 'Embarked_S'])\n",
    "feat_importances"
   ]
  },
  {
   "cell_type": "code",
   "execution_count": null,
   "id": "ac1b079b",
   "metadata": {
    "_cell_guid": "9493add3-9951-48a3-b5c6-9a30af286b9c",
    "_uuid": "719d4178-8b35-4d90-8fdd-c9dd0faab432",
    "collapsed": false,
    "jupyter": {
     "outputs_hidden": false
    },
    "papermill": {
     "duration": 0.017935,
     "end_time": "2022-07-30T09:18:01.499661",
     "exception": false,
     "start_time": "2022-07-30T09:18:01.481726",
     "status": "completed"
    },
    "tags": []
   },
   "outputs": [],
   "source": []
  }
 ],
 "metadata": {
  "kernelspec": {
   "display_name": "Python 3",
   "language": "python",
   "name": "python3"
  },
  "language_info": {
   "codemirror_mode": {
    "name": "ipython",
    "version": 3
   },
   "file_extension": ".py",
   "mimetype": "text/x-python",
   "name": "python",
   "nbconvert_exporter": "python",
   "pygments_lexer": "ipython3",
   "version": "3.7.12"
  },
  "papermill": {
   "default_parameters": {},
   "duration": 17.32061,
   "end_time": "2022-07-30T09:18:02.340934",
   "environment_variables": {},
   "exception": null,
   "input_path": "__notebook__.ipynb",
   "output_path": "__notebook__.ipynb",
   "parameters": {},
   "start_time": "2022-07-30T09:17:45.020324",
   "version": "2.3.4"
  }
 },
 "nbformat": 4,
 "nbformat_minor": 5
}
